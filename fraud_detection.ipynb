{
 "cells": [
  {
   "cell_type": "markdown",
   "id": "196cdb95",
   "metadata": {
    "id": "196cdb95"
   },
   "source": [
    "# About Dataset\n",
    "---"
   ]
  },
  {
   "cell_type": "markdown",
   "id": "4c357a35",
   "metadata": {
    "id": "4c357a35"
   },
   "source": [
    "- **trans_date_trans_time**: The date and time of the transaction.\n",
    "- **cc_num**: credit card number.\n",
    "- **merchant**: Merchant who was getting paid.\n",
    "- **category**: In what area does that merchant deal.\n",
    "- **amt**: Amount of money in American Dollars.\n",
    "- **first**: first name of the card holder.\n",
    "- **last**: last name of the card holder.\n",
    "- **gender**: Gender of the cardholder.Just male and female!\n",
    "- **street**:Street of card holder residence\n",
    "- **city**:city of card holder residence\n",
    "- **state**:state of card holder residence\n",
    "- **zip**:ZIP code of card holder residence\n",
    "- **lat**:latitude of card holder\n",
    "- **long**:longitude of card holder\n",
    "- **city_pop**:Population of the city\n",
    "- **job**:trade of the card holder\n",
    "- **dob**:Date of birth of the card holder\n",
    "- **trans_num**: Transaction ID\n",
    "- **unix_time**: Unix time which is the time calculated since 1970 to today.\n",
    "- **merch_lat**: latitude of the merchant\n",
    "- **merch_long**:longitude of the merchant\n",
    "- **is_fraud**: Whether the transaction is fraud(1) or not(0)"
   ]
  },
  {
   "cell_type": "code",
   "execution_count": 1,
   "id": "LasnH2lfY7Y7",
   "metadata": {
    "colab": {
     "base_uri": "https://localhost:8080/"
    },
    "id": "LasnH2lfY7Y7",
    "outputId": "f57cdcdc-62b7-4f1f-862d-8f534ba8eae1"
   },
   "outputs": [
    {
     "name": "stdout",
     "output_type": "stream",
     "text": [
      "Mounted at /content/drive\n"
     ]
    }
   ],
   "source": [
    "# from google.colab import drive\n",
    "# drive.mount('/content/drive')"
   ]
  },
  {
   "cell_type": "code",
   "execution_count": 1,
   "id": "765eaaa2",
   "metadata": {
    "id": "765eaaa2"
   },
   "outputs": [
    {
     "name": "stderr",
     "output_type": "stream",
     "text": [
      "C:\\Users\\Ferdy-Aditya\\anaconda3\\lib\\site-packages\\pandas\\core\\arrays\\masked.py:60: UserWarning: Pandas requires version '1.3.6' or newer of 'bottleneck' (version '1.3.5' currently installed).\n",
      "  from pandas.core import (\n"
     ]
    }
   ],
   "source": [
    "import pandas as pd\n",
    "import numpy as np\n",
    "import matplotlib.pyplot as plt\n",
    "import seaborn as sns\n",
    "import warnings\n",
    "\n",
    "warnings.filterwarnings('ignore')\n",
    "\n",
    "x1 = pd.read_csv('fraud_dataset/fraudTrain.csv')\n",
    "x2 = pd.read_csv('fraud_dataset/fraudTest.csv')\n",
    "\n",
    "# x1 = pd.read_csv('/content/drive/MyDrive/Data Excercise/fraud_prediction/fraud_dataset/fraudTrain.csv')\n",
    "# x2 = pd.read_csv('/content/drive/MyDrive/Data Excercise/fraud_prediction/fraud_dataset/fraudTest.csv')\n",
    "\n",
    "data = pd.concat([x1,x2])"
   ]
  },
  {
   "cell_type": "code",
   "execution_count": 3,
   "id": "9607d889",
   "metadata": {
    "id": "9607d889"
   },
   "outputs": [],
   "source": [
    "# !pip install --upgrade pandas"
   ]
  },
  {
   "cell_type": "code",
   "execution_count": 4,
   "id": "9709b415",
   "metadata": {
    "id": "9709b415"
   },
   "outputs": [],
   "source": [
    "# print(pd.__version__)"
   ]
  },
  {
   "cell_type": "code",
   "execution_count": 2,
   "id": "c2db92a3",
   "metadata": {
    "colab": {
     "base_uri": "https://localhost:8080/"
    },
    "id": "c2db92a3",
    "outputId": "518bf956-636e-4143-af70-b0ea9c6d3fab"
   },
   "outputs": [
    {
     "name": "stdout",
     "output_type": "stream",
     "text": [
      "<class 'pandas.core.frame.DataFrame'>\n",
      "Index: 1852394 entries, 0 to 555718\n",
      "Data columns (total 23 columns):\n",
      " #   Column                 Non-Null Count    Dtype  \n",
      "---  ------                 --------------    -----  \n",
      " 0   Unnamed: 0             1852394 non-null  int64  \n",
      " 1   trans_date_trans_time  1852394 non-null  object \n",
      " 2   cc_num                 1852394 non-null  int64  \n",
      " 3   merchant               1852394 non-null  object \n",
      " 4   category               1852394 non-null  object \n",
      " 5   amt                    1852394 non-null  float64\n",
      " 6   first                  1852394 non-null  object \n",
      " 7   last                   1852394 non-null  object \n",
      " 8   gender                 1852394 non-null  object \n",
      " 9   street                 1852394 non-null  object \n",
      " 10  city                   1852394 non-null  object \n",
      " 11  state                  1852394 non-null  object \n",
      " 12  zip                    1852394 non-null  int64  \n",
      " 13  lat                    1852394 non-null  float64\n",
      " 14  long                   1852394 non-null  float64\n",
      " 15  city_pop               1852394 non-null  int64  \n",
      " 16  job                    1852394 non-null  object \n",
      " 17  dob                    1852394 non-null  object \n",
      " 18  trans_num              1852394 non-null  object \n",
      " 19  unix_time              1852394 non-null  int64  \n",
      " 20  merch_lat              1852394 non-null  float64\n",
      " 21  merch_long             1852394 non-null  float64\n",
      " 22  is_fraud               1852394 non-null  int64  \n",
      "dtypes: float64(5), int64(6), object(12)\n",
      "memory usage: 339.2+ MB\n"
     ]
    }
   ],
   "source": [
    "data.info(show_counts = True)"
   ]
  },
  {
   "cell_type": "code",
   "execution_count": 3,
   "id": "d8dce28a",
   "metadata": {
    "colab": {
     "base_uri": "https://localhost:8080/",
     "height": 469
    },
    "id": "d8dce28a",
    "outputId": "2d243990-9836-44a6-c1b2-84a6f8722cfa"
   },
   "outputs": [
    {
     "data": {
      "text/html": [
       "<div>\n",
       "<style scoped>\n",
       "    .dataframe tbody tr th:only-of-type {\n",
       "        vertical-align: middle;\n",
       "    }\n",
       "\n",
       "    .dataframe tbody tr th {\n",
       "        vertical-align: top;\n",
       "    }\n",
       "\n",
       "    .dataframe thead th {\n",
       "        text-align: right;\n",
       "    }\n",
       "</style>\n",
       "<table border=\"1\" class=\"dataframe\">\n",
       "  <thead>\n",
       "    <tr style=\"text-align: right;\">\n",
       "      <th></th>\n",
       "      <th>Unnamed: 0</th>\n",
       "      <th>trans_date_trans_time</th>\n",
       "      <th>cc_num</th>\n",
       "      <th>merchant</th>\n",
       "      <th>category</th>\n",
       "      <th>amt</th>\n",
       "      <th>first</th>\n",
       "      <th>last</th>\n",
       "      <th>gender</th>\n",
       "      <th>street</th>\n",
       "      <th>city</th>\n",
       "      <th>state</th>\n",
       "      <th>zip</th>\n",
       "      <th>lat</th>\n",
       "      <th>long</th>\n",
       "      <th>city_pop</th>\n",
       "      <th>job</th>\n",
       "      <th>dob</th>\n",
       "      <th>trans_num</th>\n",
       "      <th>unix_time</th>\n",
       "      <th>merch_lat</th>\n",
       "      <th>merch_long</th>\n",
       "      <th>is_fraud</th>\n",
       "    </tr>\n",
       "  </thead>\n",
       "  <tbody>\n",
       "    <tr>\n",
       "      <th>1291003</th>\n",
       "      <td>1291003</td>\n",
       "      <td>2020-06-19 06:00:46</td>\n",
       "      <td>3519607465576254</td>\n",
       "      <td>fraud_Greenholt, O'Hara and Balistreri</td>\n",
       "      <td>shopping_net</td>\n",
       "      <td>7.81</td>\n",
       "      <td>Audrey</td>\n",
       "      <td>Gonzalez</td>\n",
       "      <td>F</td>\n",
       "      <td>34180 Lopez Plaza</td>\n",
       "      <td>Fields Landing</td>\n",
       "      <td>CA</td>\n",
       "      <td>95537</td>\n",
       "      <td>40.7268</td>\n",
       "      <td>-124.2174</td>\n",
       "      <td>276</td>\n",
       "      <td>Scientist, audiological</td>\n",
       "      <td>1929-05-06</td>\n",
       "      <td>0ff7d961ca8df39817708325c2c2fd26</td>\n",
       "      <td>1371621646</td>\n",
       "      <td>40.856829</td>\n",
       "      <td>-124.893772</td>\n",
       "      <td>0</td>\n",
       "    </tr>\n",
       "    <tr>\n",
       "      <th>369561</th>\n",
       "      <td>369561</td>\n",
       "      <td>2019-06-20 13:27:37</td>\n",
       "      <td>4666314527820883145</td>\n",
       "      <td>fraud_Reichel, Bradtke and Blanda</td>\n",
       "      <td>travel</td>\n",
       "      <td>476.41</td>\n",
       "      <td>Guy</td>\n",
       "      <td>Thompson</td>\n",
       "      <td>M</td>\n",
       "      <td>5812 Ramos Oval Suite 598</td>\n",
       "      <td>Ravenna</td>\n",
       "      <td>NE</td>\n",
       "      <td>68869</td>\n",
       "      <td>41.0233</td>\n",
       "      <td>-98.9041</td>\n",
       "      <td>2202</td>\n",
       "      <td>Solicitor, Scotland</td>\n",
       "      <td>1974-06-21</td>\n",
       "      <td>685002acc31136a3c50794effa61c38b</td>\n",
       "      <td>1340198857</td>\n",
       "      <td>40.617720</td>\n",
       "      <td>-99.158807</td>\n",
       "      <td>0</td>\n",
       "    </tr>\n",
       "    <tr>\n",
       "      <th>470231</th>\n",
       "      <td>470231</td>\n",
       "      <td>2019-07-26 13:56:57</td>\n",
       "      <td>4178097073221156</td>\n",
       "      <td>fraud_Bins, Balistreri and Beatty</td>\n",
       "      <td>shopping_pos</td>\n",
       "      <td>8.50</td>\n",
       "      <td>Jill</td>\n",
       "      <td>Flores</td>\n",
       "      <td>F</td>\n",
       "      <td>639 Cruz Islands</td>\n",
       "      <td>Baroda</td>\n",
       "      <td>MI</td>\n",
       "      <td>49101</td>\n",
       "      <td>41.9488</td>\n",
       "      <td>-86.4913</td>\n",
       "      <td>3104</td>\n",
       "      <td>Horticulturist, commercial</td>\n",
       "      <td>1981-03-29</td>\n",
       "      <td>c8d74a07f4e7b580c9a89905def6458a</td>\n",
       "      <td>1343311017</td>\n",
       "      <td>41.097422</td>\n",
       "      <td>-86.236448</td>\n",
       "      <td>0</td>\n",
       "    </tr>\n",
       "    <tr>\n",
       "      <th>977352</th>\n",
       "      <td>977352</td>\n",
       "      <td>2020-02-01 04:10:22</td>\n",
       "      <td>30150717898388</td>\n",
       "      <td>fraud_Goyette Inc</td>\n",
       "      <td>shopping_net</td>\n",
       "      <td>9.23</td>\n",
       "      <td>Raymond</td>\n",
       "      <td>Lloyd</td>\n",
       "      <td>M</td>\n",
       "      <td>5930 Rebecca Bridge Apt. 444</td>\n",
       "      <td>Paint Rock</td>\n",
       "      <td>AL</td>\n",
       "      <td>35764</td>\n",
       "      <td>34.7031</td>\n",
       "      <td>-86.3068</td>\n",
       "      <td>653</td>\n",
       "      <td>Paediatric nurse</td>\n",
       "      <td>1966-06-19</td>\n",
       "      <td>2e229325ea3589cabea1466789335b75</td>\n",
       "      <td>1359691822</td>\n",
       "      <td>33.918741</td>\n",
       "      <td>-85.545883</td>\n",
       "      <td>0</td>\n",
       "    </tr>\n",
       "    <tr>\n",
       "      <th>424250</th>\n",
       "      <td>424250</td>\n",
       "      <td>2020-12-02 16:33:24</td>\n",
       "      <td>6011148190095209</td>\n",
       "      <td>fraud_Koss, McLaughlin and Mayer</td>\n",
       "      <td>food_dining</td>\n",
       "      <td>39.91</td>\n",
       "      <td>Terri</td>\n",
       "      <td>Bailey</td>\n",
       "      <td>F</td>\n",
       "      <td>508 Erin Mount</td>\n",
       "      <td>Daly City</td>\n",
       "      <td>CA</td>\n",
       "      <td>94015</td>\n",
       "      <td>37.6787</td>\n",
       "      <td>-122.4780</td>\n",
       "      <td>107941</td>\n",
       "      <td>Buyer, industrial</td>\n",
       "      <td>1991-10-04</td>\n",
       "      <td>0fbdf7eddf40e75f523f1dacfcb852ef</td>\n",
       "      <td>1386002004</td>\n",
       "      <td>38.496634</td>\n",
       "      <td>-123.363107</td>\n",
       "      <td>0</td>\n",
       "    </tr>\n",
       "  </tbody>\n",
       "</table>\n",
       "</div>"
      ],
      "text/plain": [
       "         Unnamed: 0 trans_date_trans_time               cc_num  \\\n",
       "1291003     1291003   2020-06-19 06:00:46     3519607465576254   \n",
       "369561       369561   2019-06-20 13:27:37  4666314527820883145   \n",
       "470231       470231   2019-07-26 13:56:57     4178097073221156   \n",
       "977352       977352   2020-02-01 04:10:22       30150717898388   \n",
       "424250       424250   2020-12-02 16:33:24     6011148190095209   \n",
       "\n",
       "                                       merchant      category     amt  \\\n",
       "1291003  fraud_Greenholt, O'Hara and Balistreri  shopping_net    7.81   \n",
       "369561        fraud_Reichel, Bradtke and Blanda        travel  476.41   \n",
       "470231        fraud_Bins, Balistreri and Beatty  shopping_pos    8.50   \n",
       "977352                        fraud_Goyette Inc  shopping_net    9.23   \n",
       "424250         fraud_Koss, McLaughlin and Mayer   food_dining   39.91   \n",
       "\n",
       "           first      last gender                        street  \\\n",
       "1291003   Audrey  Gonzalez      F             34180 Lopez Plaza   \n",
       "369561       Guy  Thompson      M     5812 Ramos Oval Suite 598   \n",
       "470231      Jill    Flores      F              639 Cruz Islands   \n",
       "977352   Raymond     Lloyd      M  5930 Rebecca Bridge Apt. 444   \n",
       "424250     Terri    Bailey      F                508 Erin Mount   \n",
       "\n",
       "                   city state    zip      lat      long  city_pop  \\\n",
       "1291003  Fields Landing    CA  95537  40.7268 -124.2174       276   \n",
       "369561          Ravenna    NE  68869  41.0233  -98.9041      2202   \n",
       "470231           Baroda    MI  49101  41.9488  -86.4913      3104   \n",
       "977352       Paint Rock    AL  35764  34.7031  -86.3068       653   \n",
       "424250        Daly City    CA  94015  37.6787 -122.4780    107941   \n",
       "\n",
       "                                job         dob  \\\n",
       "1291003     Scientist, audiological  1929-05-06   \n",
       "369561          Solicitor, Scotland  1974-06-21   \n",
       "470231   Horticulturist, commercial  1981-03-29   \n",
       "977352             Paediatric nurse  1966-06-19   \n",
       "424250            Buyer, industrial  1991-10-04   \n",
       "\n",
       "                                trans_num   unix_time  merch_lat  merch_long  \\\n",
       "1291003  0ff7d961ca8df39817708325c2c2fd26  1371621646  40.856829 -124.893772   \n",
       "369561   685002acc31136a3c50794effa61c38b  1340198857  40.617720  -99.158807   \n",
       "470231   c8d74a07f4e7b580c9a89905def6458a  1343311017  41.097422  -86.236448   \n",
       "977352   2e229325ea3589cabea1466789335b75  1359691822  33.918741  -85.545883   \n",
       "424250   0fbdf7eddf40e75f523f1dacfcb852ef  1386002004  38.496634 -123.363107   \n",
       "\n",
       "         is_fraud  \n",
       "1291003         0  \n",
       "369561          0  \n",
       "470231          0  \n",
       "977352          0  \n",
       "424250          0  "
      ]
     },
     "execution_count": 3,
     "metadata": {},
     "output_type": "execute_result"
    }
   ],
   "source": [
    "pd.set_option('display.max_columns', None)\n",
    "data.sample(5)"
   ]
  },
  {
   "cell_type": "code",
   "execution_count": 4,
   "id": "ca7067cd",
   "metadata": {
    "colab": {
     "base_uri": "https://localhost:8080/"
    },
    "id": "ca7067cd",
    "outputId": "891bc053-12da-4050-b9b3-d270d5f75a1c"
   },
   "outputs": [
    {
     "data": {
      "text/plain": [
       "category\n",
       "gas_transport     188029\n",
       "grocery_pos       176191\n",
       "home              175460\n",
       "shopping_pos      166463\n",
       "kids_pets         161727\n",
       "shopping_net      139322\n",
       "entertainment     134118\n",
       "food_dining       130729\n",
       "personal_care     130085\n",
       "health_fitness    122553\n",
       "misc_pos          114229\n",
       "misc_net           90654\n",
       "grocery_net        64878\n",
       "travel             57956\n",
       "Name: count, dtype: int64"
      ]
     },
     "execution_count": 4,
     "metadata": {},
     "output_type": "execute_result"
    }
   ],
   "source": [
    "data['category'].value_counts()"
   ]
  },
  {
   "cell_type": "markdown",
   "id": "629855b7",
   "metadata": {
    "id": "629855b7"
   },
   "source": [
    "# Data Understanding"
   ]
  },
  {
   "cell_type": "code",
   "execution_count": 5,
   "id": "3369c5e8",
   "metadata": {
    "colab": {
     "base_uri": "https://localhost:8080/"
    },
    "id": "3369c5e8",
    "outputId": "7a65788b-7bb0-4aa7-f6e7-be50d87bead5"
   },
   "outputs": [
    {
     "data": {
      "text/plain": [
       "Unnamed: 0               0\n",
       "trans_date_trans_time    0\n",
       "cc_num                   0\n",
       "merchant                 0\n",
       "category                 0\n",
       "amt                      0\n",
       "first                    0\n",
       "last                     0\n",
       "gender                   0\n",
       "street                   0\n",
       "city                     0\n",
       "state                    0\n",
       "zip                      0\n",
       "lat                      0\n",
       "long                     0\n",
       "city_pop                 0\n",
       "job                      0\n",
       "dob                      0\n",
       "trans_num                0\n",
       "unix_time                0\n",
       "merch_lat                0\n",
       "merch_long               0\n",
       "is_fraud                 0\n",
       "dtype: int64"
      ]
     },
     "execution_count": 5,
     "metadata": {},
     "output_type": "execute_result"
    }
   ],
   "source": [
    "data.isnull().sum()"
   ]
  },
  {
   "cell_type": "code",
   "execution_count": 6,
   "id": "068c7212",
   "metadata": {
    "colab": {
     "base_uri": "https://localhost:8080/",
     "height": 175
    },
    "id": "068c7212",
    "outputId": "9cfb442a-e996-4148-aeca-07698e463e75"
   },
   "outputs": [
    {
     "data": {
      "text/html": [
       "<div>\n",
       "<style scoped>\n",
       "    .dataframe tbody tr th:only-of-type {\n",
       "        vertical-align: middle;\n",
       "    }\n",
       "\n",
       "    .dataframe tbody tr th {\n",
       "        vertical-align: top;\n",
       "    }\n",
       "\n",
       "    .dataframe thead th {\n",
       "        text-align: right;\n",
       "    }\n",
       "</style>\n",
       "<table border=\"1\" class=\"dataframe\">\n",
       "  <thead>\n",
       "    <tr style=\"text-align: right;\">\n",
       "      <th></th>\n",
       "      <th>trans_date_trans_time</th>\n",
       "      <th>merchant</th>\n",
       "      <th>category</th>\n",
       "      <th>first</th>\n",
       "      <th>last</th>\n",
       "      <th>gender</th>\n",
       "      <th>street</th>\n",
       "      <th>city</th>\n",
       "      <th>state</th>\n",
       "      <th>job</th>\n",
       "      <th>dob</th>\n",
       "      <th>trans_num</th>\n",
       "    </tr>\n",
       "  </thead>\n",
       "  <tbody>\n",
       "    <tr>\n",
       "      <th>count</th>\n",
       "      <td>1852394</td>\n",
       "      <td>1852394</td>\n",
       "      <td>1852394</td>\n",
       "      <td>1852394</td>\n",
       "      <td>1852394</td>\n",
       "      <td>1852394</td>\n",
       "      <td>1852394</td>\n",
       "      <td>1852394</td>\n",
       "      <td>1852394</td>\n",
       "      <td>1852394</td>\n",
       "      <td>1852394</td>\n",
       "      <td>1852394</td>\n",
       "    </tr>\n",
       "    <tr>\n",
       "      <th>unique</th>\n",
       "      <td>1819551</td>\n",
       "      <td>693</td>\n",
       "      <td>14</td>\n",
       "      <td>355</td>\n",
       "      <td>486</td>\n",
       "      <td>2</td>\n",
       "      <td>999</td>\n",
       "      <td>906</td>\n",
       "      <td>51</td>\n",
       "      <td>497</td>\n",
       "      <td>984</td>\n",
       "      <td>1852394</td>\n",
       "    </tr>\n",
       "    <tr>\n",
       "      <th>top</th>\n",
       "      <td>2019-04-22 16:02:01</td>\n",
       "      <td>fraud_Kilback LLC</td>\n",
       "      <td>gas_transport</td>\n",
       "      <td>Christopher</td>\n",
       "      <td>Smith</td>\n",
       "      <td>F</td>\n",
       "      <td>444 Robert Mews</td>\n",
       "      <td>Birmingham</td>\n",
       "      <td>TX</td>\n",
       "      <td>Film/video editor</td>\n",
       "      <td>1977-03-23</td>\n",
       "      <td>0b242abb623afc578575680df30655b9</td>\n",
       "    </tr>\n",
       "    <tr>\n",
       "      <th>freq</th>\n",
       "      <td>4</td>\n",
       "      <td>6262</td>\n",
       "      <td>188029</td>\n",
       "      <td>38112</td>\n",
       "      <td>40940</td>\n",
       "      <td>1014749</td>\n",
       "      <td>4392</td>\n",
       "      <td>8040</td>\n",
       "      <td>135269</td>\n",
       "      <td>13898</td>\n",
       "      <td>8044</td>\n",
       "      <td>1</td>\n",
       "    </tr>\n",
       "  </tbody>\n",
       "</table>\n",
       "</div>"
      ],
      "text/plain": [
       "       trans_date_trans_time           merchant       category        first  \\\n",
       "count                1852394            1852394        1852394      1852394   \n",
       "unique               1819551                693             14          355   \n",
       "top      2019-04-22 16:02:01  fraud_Kilback LLC  gas_transport  Christopher   \n",
       "freq                       4               6262         188029        38112   \n",
       "\n",
       "           last   gender           street        city    state  \\\n",
       "count   1852394  1852394          1852394     1852394  1852394   \n",
       "unique      486        2              999         906       51   \n",
       "top       Smith        F  444 Robert Mews  Birmingham       TX   \n",
       "freq      40940  1014749             4392        8040   135269   \n",
       "\n",
       "                      job         dob                         trans_num  \n",
       "count             1852394     1852394                           1852394  \n",
       "unique                497         984                           1852394  \n",
       "top     Film/video editor  1977-03-23  0b242abb623afc578575680df30655b9  \n",
       "freq                13898        8044                                 1  "
      ]
     },
     "execution_count": 6,
     "metadata": {},
     "output_type": "execute_result"
    }
   ],
   "source": [
    "obj_features = data.select_dtypes(include=object).columns.to_list()\n",
    "data[obj_features].describe()"
   ]
  },
  {
   "cell_type": "code",
   "execution_count": 7,
   "id": "098ebcd8",
   "metadata": {
    "colab": {
     "base_uri": "https://localhost:8080/"
    },
    "id": "098ebcd8",
    "outputId": "ce16d111-e156-460e-e326-0b89d604c476"
   },
   "outputs": [
    {
     "data": {
      "text/plain": [
       "cc_num\n",
       "6538441737335434       4392\n",
       "30270432095985         4392\n",
       "6538891242532018       4386\n",
       "4364010865167176       4386\n",
       "4642255475285942       4386\n",
       "                       ... \n",
       "4714017207228610634       7\n",
       "4352307151555405069       7\n",
       "180097223252063           7\n",
       "6011732631674654          7\n",
       "4295296907373             6\n",
       "Name: count, Length: 999, dtype: int64"
      ]
     },
     "execution_count": 7,
     "metadata": {},
     "output_type": "execute_result"
    }
   ],
   "source": [
    "data['cc_num'].value_counts()"
   ]
  },
  {
   "cell_type": "code",
   "execution_count": 8,
   "id": "d4816f1e",
   "metadata": {
    "colab": {
     "base_uri": "https://localhost:8080/"
    },
    "id": "d4816f1e",
    "outputId": "6a259844-cf82-403b-893d-a45111a1b59d"
   },
   "outputs": [
    {
     "data": {
      "text/plain": [
       "category\n",
       "gas_transport     188029\n",
       "grocery_pos       176191\n",
       "home              175460\n",
       "shopping_pos      166463\n",
       "kids_pets         161727\n",
       "shopping_net      139322\n",
       "entertainment     134118\n",
       "food_dining       130729\n",
       "personal_care     130085\n",
       "health_fitness    122553\n",
       "misc_pos          114229\n",
       "misc_net           90654\n",
       "grocery_net        64878\n",
       "travel             57956\n",
       "Name: count, dtype: int64"
      ]
     },
     "execution_count": 8,
     "metadata": {},
     "output_type": "execute_result"
    }
   ],
   "source": [
    "data['category'].value_counts()"
   ]
  },
  {
   "cell_type": "code",
   "execution_count": 9,
   "id": "f318932a",
   "metadata": {
    "colab": {
     "base_uri": "https://localhost:8080/"
    },
    "id": "f318932a",
    "outputId": "954730c3-0232-4720-991a-d8cda2495c31",
    "scrolled": true
   },
   "outputs": [
    {
     "data": {
      "text/plain": [
       "state\n",
       "TX    135269\n",
       "NY    119419\n",
       "PA    114173\n",
       "CA     80495\n",
       "OH     66627\n",
       "MI     65825\n",
       "IL     62212\n",
       "FL     60775\n",
       "AL     58521\n",
       "MO     54904\n",
       "MN     45433\n",
       "AR     44611\n",
       "NC     43134\n",
       "VA     41756\n",
       "WI     41738\n",
       "SC     41731\n",
       "KY     40981\n",
       "IN     39539\n",
       "IA     38804\n",
       "OK     38050\n",
       "MD     37345\n",
       "GA     37340\n",
       "WV     36529\n",
       "NJ     35131\n",
       "NE     34425\n",
       "KS     32939\n",
       "MS     30021\n",
       "LA     29953\n",
       "WY     27776\n",
       "WA     27040\n",
       "OR     26408\n",
       "TN     24913\n",
       "ME     23433\n",
       "NM     23427\n",
       "ND     21183\n",
       "CO     19766\n",
       "SD     17574\n",
       "MA     17562\n",
       "VT     16812\n",
       "MT     16806\n",
       "AZ     15362\n",
       "UT     15357\n",
       "NH     11727\n",
       "CT     10979\n",
       "NV      8058\n",
       "ID      8035\n",
       "DC      5130\n",
       "HI      3649\n",
       "AK      2963\n",
       "RI       745\n",
       "DE         9\n",
       "Name: count, dtype: int64"
      ]
     },
     "execution_count": 9,
     "metadata": {},
     "output_type": "execute_result"
    }
   ],
   "source": [
    "data['state'].value_counts()"
   ]
  },
  {
   "cell_type": "code",
   "execution_count": 10,
   "id": "8a728c08",
   "metadata": {
    "colab": {
     "base_uri": "https://localhost:8080/"
    },
    "id": "8a728c08",
    "outputId": "96317f90-f74e-4e84-89e0-8e4743e063e8"
   },
   "outputs": [
    {
     "data": {
      "text/plain": [
       "cc_num\n",
       "6538441737335434       4392\n",
       "30270432095985         4392\n",
       "6538891242532018       4386\n",
       "4364010865167176       4386\n",
       "4642255475285942       4386\n",
       "                       ... \n",
       "4714017207228610634       7\n",
       "4352307151555405069       7\n",
       "180097223252063           7\n",
       "6011732631674654          7\n",
       "4295296907373             6\n",
       "Name: count, Length: 999, dtype: int64"
      ]
     },
     "execution_count": 10,
     "metadata": {},
     "output_type": "execute_result"
    }
   ],
   "source": [
    "data['cc_num'].value_counts()"
   ]
  },
  {
   "cell_type": "code",
   "execution_count": 11,
   "id": "e4fc0131",
   "metadata": {
    "colab": {
     "base_uri": "https://localhost:8080/",
     "height": 354
    },
    "id": "e4fc0131",
    "outputId": "9ffdf377-7591-47f1-cf2b-4cadea5e42da"
   },
   "outputs": [
    {
     "data": {
      "text/html": [
       "<div>\n",
       "<style scoped>\n",
       "    .dataframe tbody tr th:only-of-type {\n",
       "        vertical-align: middle;\n",
       "    }\n",
       "\n",
       "    .dataframe tbody tr th {\n",
       "        vertical-align: top;\n",
       "    }\n",
       "\n",
       "    .dataframe thead th {\n",
       "        text-align: right;\n",
       "    }\n",
       "</style>\n",
       "<table border=\"1\" class=\"dataframe\">\n",
       "  <thead>\n",
       "    <tr style=\"text-align: right;\">\n",
       "      <th></th>\n",
       "      <th>Unnamed: 0</th>\n",
       "      <th>trans_date_trans_time</th>\n",
       "      <th>cc_num</th>\n",
       "      <th>merchant</th>\n",
       "      <th>category</th>\n",
       "      <th>amt</th>\n",
       "      <th>first</th>\n",
       "      <th>last</th>\n",
       "      <th>gender</th>\n",
       "      <th>street</th>\n",
       "      <th>city</th>\n",
       "      <th>state</th>\n",
       "      <th>zip</th>\n",
       "      <th>lat</th>\n",
       "      <th>long</th>\n",
       "      <th>city_pop</th>\n",
       "      <th>job</th>\n",
       "      <th>dob</th>\n",
       "      <th>trans_num</th>\n",
       "      <th>unix_time</th>\n",
       "      <th>merch_lat</th>\n",
       "      <th>merch_long</th>\n",
       "      <th>is_fraud</th>\n",
       "    </tr>\n",
       "  </thead>\n",
       "  <tbody>\n",
       "    <tr>\n",
       "      <th>0</th>\n",
       "      <td>0</td>\n",
       "      <td>2019-01-01 00:00:18</td>\n",
       "      <td>2703186189652095</td>\n",
       "      <td>fraud_Rippin, Kub and Mann</td>\n",
       "      <td>misc_net</td>\n",
       "      <td>4.97</td>\n",
       "      <td>Jennifer</td>\n",
       "      <td>Banks</td>\n",
       "      <td>F</td>\n",
       "      <td>561 Perry Cove</td>\n",
       "      <td>Moravian Falls</td>\n",
       "      <td>NC</td>\n",
       "      <td>28654</td>\n",
       "      <td>36.0788</td>\n",
       "      <td>-81.1781</td>\n",
       "      <td>3495</td>\n",
       "      <td>Psychologist, counselling</td>\n",
       "      <td>1988-03-09</td>\n",
       "      <td>0b242abb623afc578575680df30655b9</td>\n",
       "      <td>1325376018</td>\n",
       "      <td>36.011293</td>\n",
       "      <td>-82.048315</td>\n",
       "      <td>0</td>\n",
       "    </tr>\n",
       "    <tr>\n",
       "      <th>1</th>\n",
       "      <td>1</td>\n",
       "      <td>2019-01-01 00:00:44</td>\n",
       "      <td>630423337322</td>\n",
       "      <td>fraud_Heller, Gutmann and Zieme</td>\n",
       "      <td>grocery_pos</td>\n",
       "      <td>107.23</td>\n",
       "      <td>Stephanie</td>\n",
       "      <td>Gill</td>\n",
       "      <td>F</td>\n",
       "      <td>43039 Riley Greens Suite 393</td>\n",
       "      <td>Orient</td>\n",
       "      <td>WA</td>\n",
       "      <td>99160</td>\n",
       "      <td>48.8878</td>\n",
       "      <td>-118.2105</td>\n",
       "      <td>149</td>\n",
       "      <td>Special educational needs teacher</td>\n",
       "      <td>1978-06-21</td>\n",
       "      <td>1f76529f8574734946361c461b024d99</td>\n",
       "      <td>1325376044</td>\n",
       "      <td>49.159047</td>\n",
       "      <td>-118.186462</td>\n",
       "      <td>0</td>\n",
       "    </tr>\n",
       "    <tr>\n",
       "      <th>2</th>\n",
       "      <td>2</td>\n",
       "      <td>2019-01-01 00:00:51</td>\n",
       "      <td>38859492057661</td>\n",
       "      <td>fraud_Lind-Buckridge</td>\n",
       "      <td>entertainment</td>\n",
       "      <td>220.11</td>\n",
       "      <td>Edward</td>\n",
       "      <td>Sanchez</td>\n",
       "      <td>M</td>\n",
       "      <td>594 White Dale Suite 530</td>\n",
       "      <td>Malad City</td>\n",
       "      <td>ID</td>\n",
       "      <td>83252</td>\n",
       "      <td>42.1808</td>\n",
       "      <td>-112.2620</td>\n",
       "      <td>4154</td>\n",
       "      <td>Nature conservation officer</td>\n",
       "      <td>1962-01-19</td>\n",
       "      <td>a1a22d70485983eac12b5b88dad1cf95</td>\n",
       "      <td>1325376051</td>\n",
       "      <td>43.150704</td>\n",
       "      <td>-112.154481</td>\n",
       "      <td>0</td>\n",
       "    </tr>\n",
       "  </tbody>\n",
       "</table>\n",
       "</div>"
      ],
      "text/plain": [
       "   Unnamed: 0 trans_date_trans_time            cc_num  \\\n",
       "0           0   2019-01-01 00:00:18  2703186189652095   \n",
       "1           1   2019-01-01 00:00:44      630423337322   \n",
       "2           2   2019-01-01 00:00:51    38859492057661   \n",
       "\n",
       "                          merchant       category     amt      first     last  \\\n",
       "0       fraud_Rippin, Kub and Mann       misc_net    4.97   Jennifer    Banks   \n",
       "1  fraud_Heller, Gutmann and Zieme    grocery_pos  107.23  Stephanie     Gill   \n",
       "2             fraud_Lind-Buckridge  entertainment  220.11     Edward  Sanchez   \n",
       "\n",
       "  gender                        street            city state    zip      lat  \\\n",
       "0      F                561 Perry Cove  Moravian Falls    NC  28654  36.0788   \n",
       "1      F  43039 Riley Greens Suite 393          Orient    WA  99160  48.8878   \n",
       "2      M      594 White Dale Suite 530      Malad City    ID  83252  42.1808   \n",
       "\n",
       "       long  city_pop                                job         dob  \\\n",
       "0  -81.1781      3495          Psychologist, counselling  1988-03-09   \n",
       "1 -118.2105       149  Special educational needs teacher  1978-06-21   \n",
       "2 -112.2620      4154        Nature conservation officer  1962-01-19   \n",
       "\n",
       "                          trans_num   unix_time  merch_lat  merch_long  \\\n",
       "0  0b242abb623afc578575680df30655b9  1325376018  36.011293  -82.048315   \n",
       "1  1f76529f8574734946361c461b024d99  1325376044  49.159047 -118.186462   \n",
       "2  a1a22d70485983eac12b5b88dad1cf95  1325376051  43.150704 -112.154481   \n",
       "\n",
       "   is_fraud  \n",
       "0         0  \n",
       "1         0  \n",
       "2         0  "
      ]
     },
     "execution_count": 11,
     "metadata": {},
     "output_type": "execute_result"
    }
   ],
   "source": [
    "data.head(3)"
   ]
  },
  {
   "cell_type": "markdown",
   "id": "4c8aa2d0",
   "metadata": {
    "id": "4c8aa2d0"
   },
   "source": [
    "# EDA"
   ]
  },
  {
   "cell_type": "code",
   "execution_count": 12,
   "id": "07808264",
   "metadata": {
    "id": "07808264"
   },
   "outputs": [],
   "source": [
    "first_digit = data['cc_num'].astype(str).str[0]"
   ]
  },
  {
   "cell_type": "code",
   "execution_count": 13,
   "id": "34207034",
   "metadata": {
    "colab": {
     "base_uri": "https://localhost:8080/",
     "height": 466
    },
    "id": "34207034",
    "outputId": "a71de926-e022-4cde-abaf-393269b48deb"
   },
   "outputs": [
    {
     "data": {
      "text/plain": [
       "<Axes: xlabel='cc_num', ylabel='Count'>"
      ]
     },
     "execution_count": 13,
     "metadata": {},
     "output_type": "execute_result"
    },
    {
     "data": {
      "image/png": "[encoded data removed]",
      "text/plain": [
       "<Figure size 640x480 with 1 Axes>"
      ]
     },
     "metadata": {},
     "output_type": "display_data"
    }
   ],
   "source": [
    "sns.histplot(data = data, x = first_digit)"
   ]
  },
  {
   "cell_type": "code",
   "execution_count": 14,
   "id": "1651a202",
   "metadata": {
    "colab": {
     "base_uri": "https://localhost:8080/",
     "height": 564
    },
    "id": "1651a202",
    "outputId": "ad4c2152-3ee4-4cee-f5b4-b9537e48cb88"
   },
   "outputs": [
    {
     "data": {
      "image/png": "[encoded data removed]",
      "text/plain": [
       "<Figure size 800x600 with 1 Axes>"
      ]
     },
     "metadata": {},
     "output_type": "display_data"
    }
   ],
   "source": [
    "plt.figure(figsize=(8, 6))\n",
    "ax = sns.countplot(data = data, x= data['gender'])\n",
    "for p in ax.patches:\n",
    "    ax.annotate(f'{p.get_height()}', (p.get_x() + p.get_width() / 2., p.get_height()),\n",
    "                ha='center', va='center', xytext=(0, 5), textcoords='offset points')\n",
    "\n",
    "plt.xlabel('Category')\n",
    "plt.ylabel('Count')\n",
    "plt.title('Countplot with Count Numbers')\n",
    "plt.show()"
   ]
  },
  {
   "cell_type": "code",
   "execution_count": 15,
   "id": "3f6464f3",
   "metadata": {
    "id": "3f6464f3"
   },
   "outputs": [],
   "source": [
    "# Converting the date time\n",
    "data['trans_date_trans_time'] = pd.to_datetime(data['trans_date_trans_time'])\n",
    "\n",
    "data['year_trans'] = data['trans_date_trans_time'].dt.year\n",
    "data['month_trans'] = data['trans_date_trans_time'].dt.month\n",
    "data['hour_trans'] = data['trans_date_trans_time'].dt.hour"
   ]
  },
  {
   "cell_type": "code",
   "execution_count": 16,
   "id": "0e475ac2",
   "metadata": {
    "colab": {
     "base_uri": "https://localhost:8080/",
     "height": 553
    },
    "id": "0e475ac2",
    "outputId": "3fc7540b-9352-4498-96a4-3ba851d4b5f5"
   },
   "outputs": [
    {
     "data": {
      "text/html": [
       "<div>\n",
       "<style scoped>\n",
       "    .dataframe tbody tr th:only-of-type {\n",
       "        vertical-align: middle;\n",
       "    }\n",
       "\n",
       "    .dataframe tbody tr th {\n",
       "        vertical-align: top;\n",
       "    }\n",
       "\n",
       "    .dataframe thead th {\n",
       "        text-align: right;\n",
       "    }\n",
       "</style>\n",
       "<table border=\"1\" class=\"dataframe\">\n",
       "  <thead>\n",
       "    <tr style=\"text-align: right;\">\n",
       "      <th></th>\n",
       "      <th>Unnamed: 0</th>\n",
       "      <th>trans_date_trans_time</th>\n",
       "      <th>cc_num</th>\n",
       "      <th>merchant</th>\n",
       "      <th>category</th>\n",
       "      <th>amt</th>\n",
       "      <th>first</th>\n",
       "      <th>last</th>\n",
       "      <th>gender</th>\n",
       "      <th>street</th>\n",
       "      <th>city</th>\n",
       "      <th>state</th>\n",
       "      <th>zip</th>\n",
       "      <th>lat</th>\n",
       "      <th>long</th>\n",
       "      <th>city_pop</th>\n",
       "      <th>job</th>\n",
       "      <th>dob</th>\n",
       "      <th>trans_num</th>\n",
       "      <th>unix_time</th>\n",
       "      <th>merch_lat</th>\n",
       "      <th>merch_long</th>\n",
       "      <th>is_fraud</th>\n",
       "      <th>year_trans</th>\n",
       "      <th>month_trans</th>\n",
       "      <th>hour_trans</th>\n",
       "    </tr>\n",
       "  </thead>\n",
       "  <tbody>\n",
       "    <tr>\n",
       "      <th>323728</th>\n",
       "      <td>323728</td>\n",
       "      <td>2019-06-03 16:48:52</td>\n",
       "      <td>4079773899158</td>\n",
       "      <td>fraud_Skiles LLC</td>\n",
       "      <td>home</td>\n",
       "      <td>49.44</td>\n",
       "      <td>Eric</td>\n",
       "      <td>Preston</td>\n",
       "      <td>M</td>\n",
       "      <td>7020 Doyle Stream Apt. 951</td>\n",
       "      <td>Mesa</td>\n",
       "      <td>ID</td>\n",
       "      <td>83643</td>\n",
       "      <td>44.6255</td>\n",
       "      <td>-116.4493</td>\n",
       "      <td>129</td>\n",
       "      <td>Cartographer</td>\n",
       "      <td>1965-12-15</td>\n",
       "      <td>3f5298b8c7112d4a094309a8fb4464bf</td>\n",
       "      <td>1338742132</td>\n",
       "      <td>45.406249</td>\n",
       "      <td>-116.499129</td>\n",
       "      <td>0</td>\n",
       "      <td>2019</td>\n",
       "      <td>6</td>\n",
       "      <td>16</td>\n",
       "    </tr>\n",
       "    <tr>\n",
       "      <th>999836</th>\n",
       "      <td>999836</td>\n",
       "      <td>2020-02-14 09:19:26</td>\n",
       "      <td>5596347693144598</td>\n",
       "      <td>fraud_McCullough LLC</td>\n",
       "      <td>misc_pos</td>\n",
       "      <td>1.14</td>\n",
       "      <td>Joseph</td>\n",
       "      <td>Moody</td>\n",
       "      <td>M</td>\n",
       "      <td>5901 Foster Pine</td>\n",
       "      <td>Kenner</td>\n",
       "      <td>LA</td>\n",
       "      <td>70062</td>\n",
       "      <td>29.9912</td>\n",
       "      <td>-90.2479</td>\n",
       "      <td>68211</td>\n",
       "      <td>Engineer, petroleum</td>\n",
       "      <td>1941-04-23</td>\n",
       "      <td>33842845dca7a71b2bea0143d1411777</td>\n",
       "      <td>1360833566</td>\n",
       "      <td>30.956694</td>\n",
       "      <td>-90.893033</td>\n",
       "      <td>0</td>\n",
       "      <td>2020</td>\n",
       "      <td>2</td>\n",
       "      <td>9</td>\n",
       "    </tr>\n",
       "    <tr>\n",
       "      <th>398997</th>\n",
       "      <td>398997</td>\n",
       "      <td>2020-11-24 16:10:02</td>\n",
       "      <td>30092964733035</td>\n",
       "      <td>fraud_Stamm-Witting</td>\n",
       "      <td>shopping_net</td>\n",
       "      <td>11.16</td>\n",
       "      <td>Jessica</td>\n",
       "      <td>Terry</td>\n",
       "      <td>F</td>\n",
       "      <td>6412 Elizabeth Gardens Suite 633</td>\n",
       "      <td>Maysville</td>\n",
       "      <td>KY</td>\n",
       "      <td>41056</td>\n",
       "      <td>38.6207</td>\n",
       "      <td>-83.8067</td>\n",
       "      <td>14228</td>\n",
       "      <td>Advertising account executive</td>\n",
       "      <td>1971-03-26</td>\n",
       "      <td>1eb45cd0dbbb4fed81572d5cb1a69d2b</td>\n",
       "      <td>1385309402</td>\n",
       "      <td>38.438641</td>\n",
       "      <td>-84.502647</td>\n",
       "      <td>0</td>\n",
       "      <td>2020</td>\n",
       "      <td>11</td>\n",
       "      <td>16</td>\n",
       "    </tr>\n",
       "    <tr>\n",
       "      <th>135630</th>\n",
       "      <td>135630</td>\n",
       "      <td>2020-08-07 22:37:22</td>\n",
       "      <td>4457732997086323466</td>\n",
       "      <td>fraud_O'Hara-Wilderman</td>\n",
       "      <td>food_dining</td>\n",
       "      <td>60.00</td>\n",
       "      <td>Stanley</td>\n",
       "      <td>Mayo</td>\n",
       "      <td>M</td>\n",
       "      <td>3433 Jones Branch</td>\n",
       "      <td>Fiddletown</td>\n",
       "      <td>CA</td>\n",
       "      <td>95629</td>\n",
       "      <td>38.5234</td>\n",
       "      <td>-120.6763</td>\n",
       "      <td>832</td>\n",
       "      <td>Immigration officer</td>\n",
       "      <td>1987-05-19</td>\n",
       "      <td>2e004ecc6b986cc24814ace9368943e4</td>\n",
       "      <td>1375915042</td>\n",
       "      <td>39.196148</td>\n",
       "      <td>-121.483187</td>\n",
       "      <td>0</td>\n",
       "      <td>2020</td>\n",
       "      <td>8</td>\n",
       "      <td>22</td>\n",
       "    </tr>\n",
       "    <tr>\n",
       "      <th>321519</th>\n",
       "      <td>321519</td>\n",
       "      <td>2019-06-03 02:07:28</td>\n",
       "      <td>4355790796238264643</td>\n",
       "      <td>fraud_Schaefer, Maggio and Daugherty</td>\n",
       "      <td>gas_transport</td>\n",
       "      <td>78.23</td>\n",
       "      <td>Tanner</td>\n",
       "      <td>Davis</td>\n",
       "      <td>M</td>\n",
       "      <td>2632 Stevens Light Apt. 213</td>\n",
       "      <td>Payson</td>\n",
       "      <td>IL</td>\n",
       "      <td>62360</td>\n",
       "      <td>39.8153</td>\n",
       "      <td>-91.2627</td>\n",
       "      <td>1656</td>\n",
       "      <td>Exhibition designer</td>\n",
       "      <td>1969-08-04</td>\n",
       "      <td>4cf9330a4ba4cf8bbf8ebe56bd7caa70</td>\n",
       "      <td>1338689248</td>\n",
       "      <td>39.538905</td>\n",
       "      <td>-90.945153</td>\n",
       "      <td>0</td>\n",
       "      <td>2019</td>\n",
       "      <td>6</td>\n",
       "      <td>2</td>\n",
       "    </tr>\n",
       "    <tr>\n",
       "      <th>710281</th>\n",
       "      <td>710281</td>\n",
       "      <td>2019-10-30 08:10:57</td>\n",
       "      <td>213156747557083</td>\n",
       "      <td>fraud_Harber Inc</td>\n",
       "      <td>gas_transport</td>\n",
       "      <td>73.26</td>\n",
       "      <td>Adam</td>\n",
       "      <td>Santos</td>\n",
       "      <td>M</td>\n",
       "      <td>725 Jo Trace Apt. 102</td>\n",
       "      <td>Glendale</td>\n",
       "      <td>CA</td>\n",
       "      <td>91206</td>\n",
       "      <td>34.1556</td>\n",
       "      <td>-118.2322</td>\n",
       "      <td>172817</td>\n",
       "      <td>Advertising account planner</td>\n",
       "      <td>1982-07-30</td>\n",
       "      <td>2579d456b0914fdc02ae203f7401d0e9</td>\n",
       "      <td>1351584657</td>\n",
       "      <td>34.784629</td>\n",
       "      <td>-117.303010</td>\n",
       "      <td>0</td>\n",
       "      <td>2019</td>\n",
       "      <td>10</td>\n",
       "      <td>8</td>\n",
       "    </tr>\n",
       "  </tbody>\n",
       "</table>\n",
       "</div>"
      ],
      "text/plain": [
       "        Unnamed: 0 trans_date_trans_time               cc_num  \\\n",
       "323728      323728   2019-06-03 16:48:52        4079773899158   \n",
       "999836      999836   2020-02-14 09:19:26     5596347693144598   \n",
       "398997      398997   2020-11-24 16:10:02       30092964733035   \n",
       "135630      135630   2020-08-07 22:37:22  4457732997086323466   \n",
       "321519      321519   2019-06-03 02:07:28  4355790796238264643   \n",
       "710281      710281   2019-10-30 08:10:57      213156747557083   \n",
       "\n",
       "                                    merchant       category    amt    first  \\\n",
       "323728                      fraud_Skiles LLC           home  49.44     Eric   \n",
       "999836                  fraud_McCullough LLC       misc_pos   1.14   Joseph   \n",
       "398997                   fraud_Stamm-Witting   shopping_net  11.16  Jessica   \n",
       "135630                fraud_O'Hara-Wilderman    food_dining  60.00  Stanley   \n",
       "321519  fraud_Schaefer, Maggio and Daugherty  gas_transport  78.23   Tanner   \n",
       "710281                      fraud_Harber Inc  gas_transport  73.26     Adam   \n",
       "\n",
       "           last gender                            street        city state  \\\n",
       "323728  Preston      M        7020 Doyle Stream Apt. 951        Mesa    ID   \n",
       "999836    Moody      M                  5901 Foster Pine      Kenner    LA   \n",
       "398997    Terry      F  6412 Elizabeth Gardens Suite 633   Maysville    KY   \n",
       "135630     Mayo      M                 3433 Jones Branch  Fiddletown    CA   \n",
       "321519    Davis      M       2632 Stevens Light Apt. 213      Payson    IL   \n",
       "710281   Santos      M             725 Jo Trace Apt. 102    Glendale    CA   \n",
       "\n",
       "          zip      lat      long  city_pop                            job  \\\n",
       "323728  83643  44.6255 -116.4493       129                   Cartographer   \n",
       "999836  70062  29.9912  -90.2479     68211            Engineer, petroleum   \n",
       "398997  41056  38.6207  -83.8067     14228  Advertising account executive   \n",
       "135630  95629  38.5234 -120.6763       832            Immigration officer   \n",
       "321519  62360  39.8153  -91.2627      1656            Exhibition designer   \n",
       "710281  91206  34.1556 -118.2322    172817    Advertising account planner   \n",
       "\n",
       "               dob                         trans_num   unix_time  merch_lat  \\\n",
       "323728  1965-12-15  3f5298b8c7112d4a094309a8fb4464bf  1338742132  45.406249   \n",
       "999836  1941-04-23  33842845dca7a71b2bea0143d1411777  1360833566  30.956694   \n",
       "398997  1971-03-26  1eb45cd0dbbb4fed81572d5cb1a69d2b  1385309402  38.438641   \n",
       "135630  1987-05-19  2e004ecc6b986cc24814ace9368943e4  1375915042  39.196148   \n",
       "321519  1969-08-04  4cf9330a4ba4cf8bbf8ebe56bd7caa70  1338689248  39.538905   \n",
       "710281  1982-07-30  2579d456b0914fdc02ae203f7401d0e9  1351584657  34.784629   \n",
       "\n",
       "        merch_long  is_fraud  year_trans  month_trans  hour_trans  \n",
       "323728 -116.499129         0        2019            6          16  \n",
       "999836  -90.893033         0        2020            2           9  \n",
       "398997  -84.502647         0        2020           11          16  \n",
       "135630 -121.483187         0        2020            8          22  \n",
       "321519  -90.945153         0        2019            6           2  \n",
       "710281 -117.303010         0        2019           10           8  "
      ]
     },
     "execution_count": 16,
     "metadata": {},
     "output_type": "execute_result"
    }
   ],
   "source": [
    "data.sample(6)"
   ]
  },
  {
   "cell_type": "code",
   "execution_count": 17,
   "id": "679150b9",
   "metadata": {
    "colab": {
     "base_uri": "https://localhost:8080/"
    },
    "id": "679150b9",
    "outputId": "bdeaa64f-f6e2-49b2-ba19-da6650dbeb11"
   },
   "outputs": [
    {
     "data": {
      "text/plain": [
       "year_trans\n",
       "2020    927544\n",
       "2019    924850\n",
       "Name: count, dtype: int64"
      ]
     },
     "execution_count": 17,
     "metadata": {},
     "output_type": "execute_result"
    }
   ],
   "source": [
    "data['year_trans'].value_counts()"
   ]
  },
  {
   "cell_type": "code",
   "execution_count": 18,
   "id": "8bd70ee3",
   "metadata": {
    "colab": {
     "base_uri": "https://localhost:8080/"
    },
    "id": "8bd70ee3",
    "outputId": "92c9c8fb-81e4-4c02-965d-fa36bd068ec2"
   },
   "outputs": [
    {
     "data": {
      "text/plain": [
       "month_trans\n",
       "12    280598\n",
       "8     176118\n",
       "6     173869\n",
       "7     172444\n",
       "5     146875\n",
       "3     143789\n",
       "11    143056\n",
       "9     140185\n",
       "10    138106\n",
       "4     134970\n",
       "1     104727\n",
       "2      97657\n",
       "Name: count, dtype: int64"
      ]
     },
     "execution_count": 18,
     "metadata": {},
     "output_type": "execute_result"
    }
   ],
   "source": [
    "data['month_trans'].value_counts()"
   ]
  },
  {
   "cell_type": "code",
   "execution_count": 19,
   "id": "b7de75f3",
   "metadata": {
    "id": "b7de75f3"
   },
   "outputs": [],
   "source": [
    "count_category_per_year = data.groupby(['year_trans', 'month_trans','category']).agg(\n",
    "    category_count = ('category','count')\n",
    ").reset_index()"
   ]
  },
  {
   "cell_type": "code",
   "execution_count": 20,
   "id": "0eeeca14",
   "metadata": {
    "colab": {
     "base_uri": "https://localhost:8080/",
     "height": 424
    },
    "id": "0eeeca14",
    "outputId": "aedbc487-5761-4a1a-b602-2f96be29021b"
   },
   "outputs": [
    {
     "data": {
      "text/html": [
       "<div>\n",
       "<style scoped>\n",
       "    .dataframe tbody tr th:only-of-type {\n",
       "        vertical-align: middle;\n",
       "    }\n",
       "\n",
       "    .dataframe tbody tr th {\n",
       "        vertical-align: top;\n",
       "    }\n",
       "\n",
       "    .dataframe thead th {\n",
       "        text-align: right;\n",
       "    }\n",
       "</style>\n",
       "<table border=\"1\" class=\"dataframe\">\n",
       "  <thead>\n",
       "    <tr style=\"text-align: right;\">\n",
       "      <th></th>\n",
       "      <th>year_trans</th>\n",
       "      <th>month_trans</th>\n",
       "      <th>category</th>\n",
       "      <th>category_count</th>\n",
       "    </tr>\n",
       "  </thead>\n",
       "  <tbody>\n",
       "    <tr>\n",
       "      <th>0</th>\n",
       "      <td>2019</td>\n",
       "      <td>1</td>\n",
       "      <td>entertainment</td>\n",
       "      <td>3791</td>\n",
       "    </tr>\n",
       "    <tr>\n",
       "      <th>1</th>\n",
       "      <td>2019</td>\n",
       "      <td>1</td>\n",
       "      <td>food_dining</td>\n",
       "      <td>3743</td>\n",
       "    </tr>\n",
       "    <tr>\n",
       "      <th>2</th>\n",
       "      <td>2019</td>\n",
       "      <td>1</td>\n",
       "      <td>gas_transport</td>\n",
       "      <td>5261</td>\n",
       "    </tr>\n",
       "    <tr>\n",
       "      <th>3</th>\n",
       "      <td>2019</td>\n",
       "      <td>1</td>\n",
       "      <td>grocery_net</td>\n",
       "      <td>1794</td>\n",
       "    </tr>\n",
       "    <tr>\n",
       "      <th>4</th>\n",
       "      <td>2019</td>\n",
       "      <td>1</td>\n",
       "      <td>grocery_pos</td>\n",
       "      <td>4914</td>\n",
       "    </tr>\n",
       "    <tr>\n",
       "      <th>...</th>\n",
       "      <td>...</td>\n",
       "      <td>...</td>\n",
       "      <td>...</td>\n",
       "      <td>...</td>\n",
       "    </tr>\n",
       "    <tr>\n",
       "      <th>331</th>\n",
       "      <td>2020</td>\n",
       "      <td>12</td>\n",
       "      <td>misc_pos</td>\n",
       "      <td>8741</td>\n",
       "    </tr>\n",
       "    <tr>\n",
       "      <th>332</th>\n",
       "      <td>2020</td>\n",
       "      <td>12</td>\n",
       "      <td>personal_care</td>\n",
       "      <td>9951</td>\n",
       "    </tr>\n",
       "    <tr>\n",
       "      <th>333</th>\n",
       "      <td>2020</td>\n",
       "      <td>12</td>\n",
       "      <td>shopping_net</td>\n",
       "      <td>10461</td>\n",
       "    </tr>\n",
       "    <tr>\n",
       "      <th>334</th>\n",
       "      <td>2020</td>\n",
       "      <td>12</td>\n",
       "      <td>shopping_pos</td>\n",
       "      <td>12657</td>\n",
       "    </tr>\n",
       "    <tr>\n",
       "      <th>335</th>\n",
       "      <td>2020</td>\n",
       "      <td>12</td>\n",
       "      <td>travel</td>\n",
       "      <td>4318</td>\n",
       "    </tr>\n",
       "  </tbody>\n",
       "</table>\n",
       "<p>336 rows × 4 columns</p>\n",
       "</div>"
      ],
      "text/plain": [
       "     year_trans  month_trans       category  category_count\n",
       "0          2019            1  entertainment            3791\n",
       "1          2019            1    food_dining            3743\n",
       "2          2019            1  gas_transport            5261\n",
       "3          2019            1    grocery_net            1794\n",
       "4          2019            1    grocery_pos            4914\n",
       "..          ...          ...            ...             ...\n",
       "331        2020           12       misc_pos            8741\n",
       "332        2020           12  personal_care            9951\n",
       "333        2020           12   shopping_net           10461\n",
       "334        2020           12   shopping_pos           12657\n",
       "335        2020           12         travel            4318\n",
       "\n",
       "[336 rows x 4 columns]"
      ]
     },
     "execution_count": 20,
     "metadata": {},
     "output_type": "execute_result"
    }
   ],
   "source": [
    "count_category_per_year"
   ]
  },
  {
   "cell_type": "code",
   "execution_count": 21,
   "id": "1d7398ef",
   "metadata": {
    "colab": {
     "base_uri": "https://localhost:8080/",
     "height": 467
    },
    "id": "1d7398ef",
    "outputId": "6314cc1e-10f9-46ab-d437-6175230de622"
   },
   "outputs": [
    {
     "data": {
      "text/plain": [
       "<Axes: xlabel='month_trans', ylabel='category_count'>"
      ]
     },
     "execution_count": 21,
     "metadata": {},
     "output_type": "execute_result"
    },
    {
     "data": {
      "image/png": "[encoded data removed]",
      "text/plain": [
       "<Figure size 640x480 with 1 Axes>"
      ]
     },
     "metadata": {},
     "output_type": "display_data"
    }
   ],
   "source": [
    "sns.lineplot(data=count_category_per_year, x='month_trans', y='category_count', hue='category')"
   ]
  },
  {
   "cell_type": "code",
   "execution_count": null,
   "id": "0b6d8e61",
   "metadata": {
    "id": "0b6d8e61"
   },
   "outputs": [],
   "source": []
  },
  {
   "cell_type": "markdown",
   "id": "ed704c0c",
   "metadata": {
    "id": "ed704c0c"
   },
   "source": [
    "# Data Preprocessing"
   ]
  },
  {
   "cell_type": "markdown",
   "id": "d4349434",
   "metadata": {
    "id": "d4349434"
   },
   "source": [
    "## Feature Extraction"
   ]
  },
  {
   "cell_type": "code",
   "execution_count": 22,
   "id": "cb5e6567",
   "metadata": {
    "id": "cb5e6567"
   },
   "outputs": [],
   "source": [
    "data['card_provider'] = data['cc_num'].astype(str).apply(lambda x:\n",
    "                                             'Airline' if x.startswith('1') else\n",
    "                                             'Airline and Financial' if x.startswith('2') else\n",
    "                                             'American Express' if x.startswith('3') else\n",
    "                                             'Visa' if x.startswith('4') else\n",
    "                                             'Mastercard' if x.startswith('5') else\n",
    "                                             'Discover')"
   ]
  },
  {
   "cell_type": "code",
   "execution_count": 23,
   "id": "1c62b443",
   "metadata": {
    "colab": {
     "base_uri": "https://localhost:8080/",
     "height": 452
    },
    "id": "1c62b443",
    "outputId": "ee56c916-131c-4706-b434-e80ac32ed709"
   },
   "outputs": [
    {
     "data": {
      "text/html": [
       "<div>\n",
       "<style scoped>\n",
       "    .dataframe tbody tr th:only-of-type {\n",
       "        vertical-align: middle;\n",
       "    }\n",
       "\n",
       "    .dataframe tbody tr th {\n",
       "        vertical-align: top;\n",
       "    }\n",
       "\n",
       "    .dataframe thead th {\n",
       "        text-align: right;\n",
       "    }\n",
       "</style>\n",
       "<table border=\"1\" class=\"dataframe\">\n",
       "  <thead>\n",
       "    <tr style=\"text-align: right;\">\n",
       "      <th></th>\n",
       "      <th>Unnamed: 0</th>\n",
       "      <th>trans_date_trans_time</th>\n",
       "      <th>cc_num</th>\n",
       "      <th>merchant</th>\n",
       "      <th>category</th>\n",
       "      <th>amt</th>\n",
       "      <th>first</th>\n",
       "      <th>last</th>\n",
       "      <th>gender</th>\n",
       "      <th>street</th>\n",
       "      <th>city</th>\n",
       "      <th>state</th>\n",
       "      <th>zip</th>\n",
       "      <th>lat</th>\n",
       "      <th>long</th>\n",
       "      <th>city_pop</th>\n",
       "      <th>job</th>\n",
       "      <th>dob</th>\n",
       "      <th>trans_num</th>\n",
       "      <th>unix_time</th>\n",
       "      <th>merch_lat</th>\n",
       "      <th>merch_long</th>\n",
       "      <th>is_fraud</th>\n",
       "      <th>year_trans</th>\n",
       "      <th>month_trans</th>\n",
       "      <th>hour_trans</th>\n",
       "      <th>card_provider</th>\n",
       "    </tr>\n",
       "  </thead>\n",
       "  <tbody>\n",
       "    <tr>\n",
       "      <th>247795</th>\n",
       "      <td>247795</td>\n",
       "      <td>2019-05-04 12:48:06</td>\n",
       "      <td>3543591270174051</td>\n",
       "      <td>fraud_Gerhold LLC</td>\n",
       "      <td>home</td>\n",
       "      <td>75.08</td>\n",
       "      <td>Margaret</td>\n",
       "      <td>Lam</td>\n",
       "      <td>F</td>\n",
       "      <td>6911 Nicholas Keys Apt. 237</td>\n",
       "      <td>Armagh</td>\n",
       "      <td>PA</td>\n",
       "      <td>15920</td>\n",
       "      <td>40.4603</td>\n",
       "      <td>-79.0097</td>\n",
       "      <td>922</td>\n",
       "      <td>Early years teacher</td>\n",
       "      <td>1972-10-04</td>\n",
       "      <td>15f8589fcbfe0853249df25b337cc40b</td>\n",
       "      <td>1336135686</td>\n",
       "      <td>41.250214</td>\n",
       "      <td>-78.111449</td>\n",
       "      <td>0</td>\n",
       "      <td>2019</td>\n",
       "      <td>5</td>\n",
       "      <td>12</td>\n",
       "      <td>American Express</td>\n",
       "    </tr>\n",
       "    <tr>\n",
       "      <th>426605</th>\n",
       "      <td>426605</td>\n",
       "      <td>2020-12-03 11:36:11</td>\n",
       "      <td>4040099974063068803</td>\n",
       "      <td>fraud_Huels-Nolan</td>\n",
       "      <td>gas_transport</td>\n",
       "      <td>72.89</td>\n",
       "      <td>Jeffrey</td>\n",
       "      <td>Lewis</td>\n",
       "      <td>M</td>\n",
       "      <td>24255 Bryan Square</td>\n",
       "      <td>Palermo</td>\n",
       "      <td>ND</td>\n",
       "      <td>58769</td>\n",
       "      <td>48.3396</td>\n",
       "      <td>-102.2400</td>\n",
       "      <td>229</td>\n",
       "      <td>Administrator</td>\n",
       "      <td>1983-03-20</td>\n",
       "      <td>f911624916c48c6c75b433fbc6aeed79</td>\n",
       "      <td>1386070571</td>\n",
       "      <td>48.333733</td>\n",
       "      <td>-101.341217</td>\n",
       "      <td>0</td>\n",
       "      <td>2020</td>\n",
       "      <td>12</td>\n",
       "      <td>11</td>\n",
       "      <td>Visa</td>\n",
       "    </tr>\n",
       "    <tr>\n",
       "      <th>15662</th>\n",
       "      <td>15662</td>\n",
       "      <td>2019-01-10 02:35:23</td>\n",
       "      <td>6593250708747804</td>\n",
       "      <td>fraud_Goldner, Kovacek and Abbott</td>\n",
       "      <td>grocery_pos</td>\n",
       "      <td>214.77</td>\n",
       "      <td>Melissa</td>\n",
       "      <td>Meza</td>\n",
       "      <td>F</td>\n",
       "      <td>244 Abbott Parkway</td>\n",
       "      <td>Loxahatchee</td>\n",
       "      <td>FL</td>\n",
       "      <td>33470</td>\n",
       "      <td>26.7383</td>\n",
       "      <td>-80.2760</td>\n",
       "      <td>26551</td>\n",
       "      <td>Paramedic</td>\n",
       "      <td>1977-01-04</td>\n",
       "      <td>5d9476c886c5a9280d009132a9bcebbb</td>\n",
       "      <td>1326162923</td>\n",
       "      <td>26.752644</td>\n",
       "      <td>-80.820654</td>\n",
       "      <td>0</td>\n",
       "      <td>2019</td>\n",
       "      <td>1</td>\n",
       "      <td>2</td>\n",
       "      <td>Discover</td>\n",
       "    </tr>\n",
       "    <tr>\n",
       "      <th>887403</th>\n",
       "      <td>887403</td>\n",
       "      <td>2019-12-23 13:29:19</td>\n",
       "      <td>4642255475285942</td>\n",
       "      <td>fraud_Jast and Sons</td>\n",
       "      <td>food_dining</td>\n",
       "      <td>4.55</td>\n",
       "      <td>Sabrina</td>\n",
       "      <td>Johnson</td>\n",
       "      <td>F</td>\n",
       "      <td>320 Nicholson Orchard</td>\n",
       "      <td>Thompson</td>\n",
       "      <td>UT</td>\n",
       "      <td>84540</td>\n",
       "      <td>38.9999</td>\n",
       "      <td>-109.6150</td>\n",
       "      <td>46</td>\n",
       "      <td>Surveyor, minerals</td>\n",
       "      <td>1987-04-23</td>\n",
       "      <td>b5fff91e2611ef8e82cecb46cb397929</td>\n",
       "      <td>1356269359</td>\n",
       "      <td>38.001923</td>\n",
       "      <td>-109.480398</td>\n",
       "      <td>0</td>\n",
       "      <td>2019</td>\n",
       "      <td>12</td>\n",
       "      <td>13</td>\n",
       "      <td>Visa</td>\n",
       "    </tr>\n",
       "    <tr>\n",
       "      <th>1075185</th>\n",
       "      <td>1075185</td>\n",
       "      <td>2020-03-22 21:29:00</td>\n",
       "      <td>2248735346244816</td>\n",
       "      <td>fraud_Fadel, Mertz and Rippin</td>\n",
       "      <td>entertainment</td>\n",
       "      <td>28.16</td>\n",
       "      <td>Jacob</td>\n",
       "      <td>Weber</td>\n",
       "      <td>M</td>\n",
       "      <td>29156 Mark Park Apt. 108</td>\n",
       "      <td>Utica</td>\n",
       "      <td>KS</td>\n",
       "      <td>67584</td>\n",
       "      <td>38.6411</td>\n",
       "      <td>-100.1380</td>\n",
       "      <td>269</td>\n",
       "      <td>Product/process development scientist</td>\n",
       "      <td>1962-11-11</td>\n",
       "      <td>7e53b73f363b36417de7aa314cbf4461</td>\n",
       "      <td>1363987740</td>\n",
       "      <td>39.389603</td>\n",
       "      <td>-100.629207</td>\n",
       "      <td>0</td>\n",
       "      <td>2020</td>\n",
       "      <td>3</td>\n",
       "      <td>21</td>\n",
       "      <td>Airline and Financial</td>\n",
       "    </tr>\n",
       "  </tbody>\n",
       "</table>\n",
       "</div>"
      ],
      "text/plain": [
       "         Unnamed: 0 trans_date_trans_time               cc_num  \\\n",
       "247795       247795   2019-05-04 12:48:06     3543591270174051   \n",
       "426605       426605   2020-12-03 11:36:11  4040099974063068803   \n",
       "15662         15662   2019-01-10 02:35:23     6593250708747804   \n",
       "887403       887403   2019-12-23 13:29:19     4642255475285942   \n",
       "1075185     1075185   2020-03-22 21:29:00     2248735346244816   \n",
       "\n",
       "                                  merchant       category     amt     first  \\\n",
       "247795                   fraud_Gerhold LLC           home   75.08  Margaret   \n",
       "426605                   fraud_Huels-Nolan  gas_transport   72.89   Jeffrey   \n",
       "15662    fraud_Goldner, Kovacek and Abbott    grocery_pos  214.77   Melissa   \n",
       "887403                 fraud_Jast and Sons    food_dining    4.55   Sabrina   \n",
       "1075185      fraud_Fadel, Mertz and Rippin  entertainment   28.16     Jacob   \n",
       "\n",
       "            last gender                       street         city state  \\\n",
       "247795       Lam      F  6911 Nicholas Keys Apt. 237       Armagh    PA   \n",
       "426605     Lewis      M           24255 Bryan Square      Palermo    ND   \n",
       "15662       Meza      F           244 Abbott Parkway  Loxahatchee    FL   \n",
       "887403   Johnson      F        320 Nicholson Orchard     Thompson    UT   \n",
       "1075185    Weber      M     29156 Mark Park Apt. 108        Utica    KS   \n",
       "\n",
       "           zip      lat      long  city_pop  \\\n",
       "247795   15920  40.4603  -79.0097       922   \n",
       "426605   58769  48.3396 -102.2400       229   \n",
       "15662    33470  26.7383  -80.2760     26551   \n",
       "887403   84540  38.9999 -109.6150        46   \n",
       "1075185  67584  38.6411 -100.1380       269   \n",
       "\n",
       "                                           job         dob  \\\n",
       "247795                     Early years teacher  1972-10-04   \n",
       "426605                           Administrator  1983-03-20   \n",
       "15662                                Paramedic  1977-01-04   \n",
       "887403                      Surveyor, minerals  1987-04-23   \n",
       "1075185  Product/process development scientist  1962-11-11   \n",
       "\n",
       "                                trans_num   unix_time  merch_lat  merch_long  \\\n",
       "247795   15f8589fcbfe0853249df25b337cc40b  1336135686  41.250214  -78.111449   \n",
       "426605   f911624916c48c6c75b433fbc6aeed79  1386070571  48.333733 -101.341217   \n",
       "15662    5d9476c886c5a9280d009132a9bcebbb  1326162923  26.752644  -80.820654   \n",
       "887403   b5fff91e2611ef8e82cecb46cb397929  1356269359  38.001923 -109.480398   \n",
       "1075185  7e53b73f363b36417de7aa314cbf4461  1363987740  39.389603 -100.629207   \n",
       "\n",
       "         is_fraud  year_trans  month_trans  hour_trans          card_provider  \n",
       "247795          0        2019            5          12       American Express  \n",
       "426605          0        2020           12          11                   Visa  \n",
       "15662           0        2019            1           2               Discover  \n",
       "887403          0        2019           12          13                   Visa  \n",
       "1075185         0        2020            3          21  Airline and Financial  "
      ]
     },
     "execution_count": 23,
     "metadata": {},
     "output_type": "execute_result"
    }
   ],
   "source": [
    "data.sample(5)"
   ]
  },
  {
   "cell_type": "code",
   "execution_count": 24,
   "id": "5d1b77c9",
   "metadata": {
    "colab": {
     "base_uri": "https://localhost:8080/",
     "height": 826
    },
    "id": "5d1b77c9",
    "outputId": "d8c9a451-d11a-43d3-ba97-142915d286ec"
   },
   "outputs": [
    {
     "data": {
      "text/html": [
       "<div>\n",
       "<style scoped>\n",
       "    .dataframe tbody tr th:only-of-type {\n",
       "        vertical-align: middle;\n",
       "    }\n",
       "\n",
       "    .dataframe tbody tr th {\n",
       "        vertical-align: top;\n",
       "    }\n",
       "\n",
       "    .dataframe thead th {\n",
       "        text-align: right;\n",
       "    }\n",
       "</style>\n",
       "<table border=\"1\" class=\"dataframe\">\n",
       "  <thead>\n",
       "    <tr style=\"text-align: right;\">\n",
       "      <th></th>\n",
       "      <th>Unnamed: 0</th>\n",
       "      <th>trans_date_trans_time</th>\n",
       "      <th>cc_num</th>\n",
       "      <th>merchant</th>\n",
       "      <th>category</th>\n",
       "      <th>amt</th>\n",
       "      <th>first</th>\n",
       "      <th>last</th>\n",
       "      <th>gender</th>\n",
       "      <th>street</th>\n",
       "      <th>city</th>\n",
       "      <th>state</th>\n",
       "      <th>zip</th>\n",
       "      <th>lat</th>\n",
       "      <th>long</th>\n",
       "      <th>city_pop</th>\n",
       "      <th>job</th>\n",
       "      <th>dob</th>\n",
       "      <th>trans_num</th>\n",
       "      <th>unix_time</th>\n",
       "      <th>merch_lat</th>\n",
       "      <th>merch_long</th>\n",
       "      <th>is_fraud</th>\n",
       "      <th>year_trans</th>\n",
       "      <th>month_trans</th>\n",
       "      <th>hour_trans</th>\n",
       "      <th>card_provider</th>\n",
       "    </tr>\n",
       "  </thead>\n",
       "  <tbody>\n",
       "    <tr>\n",
       "      <th>12</th>\n",
       "      <td>12</td>\n",
       "      <td>2019-01-01 00:06:56</td>\n",
       "      <td>180042946491150</td>\n",
       "      <td>fraud_Lockman Ltd</td>\n",
       "      <td>grocery_pos</td>\n",
       "      <td>71.22</td>\n",
       "      <td>Charles</td>\n",
       "      <td>Robles</td>\n",
       "      <td>M</td>\n",
       "      <td>3337 Lisa Divide</td>\n",
       "      <td>Saint Petersburg</td>\n",
       "      <td>FL</td>\n",
       "      <td>33710</td>\n",
       "      <td>27.7898</td>\n",
       "      <td>-82.7243</td>\n",
       "      <td>341043</td>\n",
       "      <td>Engineer, land</td>\n",
       "      <td>1989-02-28</td>\n",
       "      <td>c1d9a7ddb1e34639fe82758de97f4abf</td>\n",
       "      <td>1325376416</td>\n",
       "      <td>27.630593</td>\n",
       "      <td>-82.308891</td>\n",
       "      <td>0</td>\n",
       "      <td>2019</td>\n",
       "      <td>1</td>\n",
       "      <td>0</td>\n",
       "      <td>Airline</td>\n",
       "    </tr>\n",
       "    <tr>\n",
       "      <th>22</th>\n",
       "      <td>22</td>\n",
       "      <td>2019-01-01 00:17:16</td>\n",
       "      <td>180048185037117</td>\n",
       "      <td>fraud_Kling-Grant</td>\n",
       "      <td>grocery_net</td>\n",
       "      <td>46.28</td>\n",
       "      <td>Mary</td>\n",
       "      <td>Wall</td>\n",
       "      <td>F</td>\n",
       "      <td>2481 Mills Lock</td>\n",
       "      <td>Plainfield</td>\n",
       "      <td>NJ</td>\n",
       "      <td>7060</td>\n",
       "      <td>40.6152</td>\n",
       "      <td>-74.4150</td>\n",
       "      <td>71485</td>\n",
       "      <td>Leisure centre manager</td>\n",
       "      <td>1974-07-19</td>\n",
       "      <td>19e23c6a300c774354417befe4f31f8c</td>\n",
       "      <td>1325377036</td>\n",
       "      <td>40.021888</td>\n",
       "      <td>-74.228188</td>\n",
       "      <td>0</td>\n",
       "      <td>2019</td>\n",
       "      <td>1</td>\n",
       "      <td>0</td>\n",
       "      <td>Airline</td>\n",
       "    </tr>\n",
       "    <tr>\n",
       "      <th>30</th>\n",
       "      <td>30</td>\n",
       "      <td>2019-01-01 00:22:36</td>\n",
       "      <td>180094608895855</td>\n",
       "      <td>fraud_Kihn, Abernathy and Douglas</td>\n",
       "      <td>shopping_net</td>\n",
       "      <td>3.66</td>\n",
       "      <td>Tammie</td>\n",
       "      <td>Harper</td>\n",
       "      <td>F</td>\n",
       "      <td>57887 Gutierrez Harbor</td>\n",
       "      <td>Westfir</td>\n",
       "      <td>OR</td>\n",
       "      <td>97492</td>\n",
       "      <td>43.7575</td>\n",
       "      <td>-122.4810</td>\n",
       "      <td>597</td>\n",
       "      <td>Forensic psychologist</td>\n",
       "      <td>1961-05-19</td>\n",
       "      <td>870c92b288a974a2faf1f24b05c27e33</td>\n",
       "      <td>1325377356</td>\n",
       "      <td>44.278191</td>\n",
       "      <td>-121.815161</td>\n",
       "      <td>0</td>\n",
       "      <td>2019</td>\n",
       "      <td>1</td>\n",
       "      <td>0</td>\n",
       "      <td>Airline</td>\n",
       "    </tr>\n",
       "    <tr>\n",
       "      <th>44</th>\n",
       "      <td>44</td>\n",
       "      <td>2019-01-01 00:32:15</td>\n",
       "      <td>180067784565096</td>\n",
       "      <td>fraud_Koepp-Witting</td>\n",
       "      <td>grocery_pos</td>\n",
       "      <td>130.40</td>\n",
       "      <td>Mary</td>\n",
       "      <td>Juarez</td>\n",
       "      <td>F</td>\n",
       "      <td>35440 Ryan Islands</td>\n",
       "      <td>North Prairie</td>\n",
       "      <td>WI</td>\n",
       "      <td>53153</td>\n",
       "      <td>42.9385</td>\n",
       "      <td>-88.3950</td>\n",
       "      <td>2328</td>\n",
       "      <td>Applications developer</td>\n",
       "      <td>1942-01-06</td>\n",
       "      <td>14a6e29ac65424550ea7e7c9f551dbb8</td>\n",
       "      <td>1325377935</td>\n",
       "      <td>42.236269</td>\n",
       "      <td>-88.397336</td>\n",
       "      <td>0</td>\n",
       "      <td>2019</td>\n",
       "      <td>1</td>\n",
       "      <td>0</td>\n",
       "      <td>Airline</td>\n",
       "    </tr>\n",
       "    <tr>\n",
       "      <th>93</th>\n",
       "      <td>93</td>\n",
       "      <td>2019-01-01 01:09:57</td>\n",
       "      <td>180048185037117</td>\n",
       "      <td>fraud_Rippin, Kub and Mann</td>\n",
       "      <td>misc_net</td>\n",
       "      <td>3.79</td>\n",
       "      <td>Mary</td>\n",
       "      <td>Wall</td>\n",
       "      <td>F</td>\n",
       "      <td>2481 Mills Lock</td>\n",
       "      <td>Plainfield</td>\n",
       "      <td>NJ</td>\n",
       "      <td>7060</td>\n",
       "      <td>40.6152</td>\n",
       "      <td>-74.4150</td>\n",
       "      <td>71485</td>\n",
       "      <td>Leisure centre manager</td>\n",
       "      <td>1974-07-19</td>\n",
       "      <td>7c63dd07b14aac7dc99f4587d83dd599</td>\n",
       "      <td>1325380197</td>\n",
       "      <td>40.813669</td>\n",
       "      <td>-75.283465</td>\n",
       "      <td>0</td>\n",
       "      <td>2019</td>\n",
       "      <td>1</td>\n",
       "      <td>1</td>\n",
       "      <td>Airline</td>\n",
       "    </tr>\n",
       "    <tr>\n",
       "      <th>...</th>\n",
       "      <td>...</td>\n",
       "      <td>...</td>\n",
       "      <td>...</td>\n",
       "      <td>...</td>\n",
       "      <td>...</td>\n",
       "      <td>...</td>\n",
       "      <td>...</td>\n",
       "      <td>...</td>\n",
       "      <td>...</td>\n",
       "      <td>...</td>\n",
       "      <td>...</td>\n",
       "      <td>...</td>\n",
       "      <td>...</td>\n",
       "      <td>...</td>\n",
       "      <td>...</td>\n",
       "      <td>...</td>\n",
       "      <td>...</td>\n",
       "      <td>...</td>\n",
       "      <td>...</td>\n",
       "      <td>...</td>\n",
       "      <td>...</td>\n",
       "      <td>...</td>\n",
       "      <td>...</td>\n",
       "      <td>...</td>\n",
       "      <td>...</td>\n",
       "      <td>...</td>\n",
       "      <td>...</td>\n",
       "    </tr>\n",
       "    <tr>\n",
       "      <th>555515</th>\n",
       "      <td>555515</td>\n",
       "      <td>2020-12-31 22:45:04</td>\n",
       "      <td>180031190491743</td>\n",
       "      <td>fraud_Erdman-Schaden</td>\n",
       "      <td>personal_care</td>\n",
       "      <td>56.32</td>\n",
       "      <td>Becky</td>\n",
       "      <td>Mckinney</td>\n",
       "      <td>F</td>\n",
       "      <td>250 Benjamin Hill Apt. 026</td>\n",
       "      <td>Mobile</td>\n",
       "      <td>AL</td>\n",
       "      <td>36617</td>\n",
       "      <td>30.7145</td>\n",
       "      <td>-88.0918</td>\n",
       "      <td>270712</td>\n",
       "      <td>Surveyor, land/geomatics</td>\n",
       "      <td>1972-01-05</td>\n",
       "      <td>28e49423472cde125911f3650a0cdcdb</td>\n",
       "      <td>1388529904</td>\n",
       "      <td>30.416579</td>\n",
       "      <td>-88.991330</td>\n",
       "      <td>0</td>\n",
       "      <td>2020</td>\n",
       "      <td>12</td>\n",
       "      <td>22</td>\n",
       "      <td>Airline</td>\n",
       "    </tr>\n",
       "    <tr>\n",
       "      <th>555585</th>\n",
       "      <td>555585</td>\n",
       "      <td>2020-12-31 23:10:47</td>\n",
       "      <td>180072527505094</td>\n",
       "      <td>fraud_Gottlieb-Hansen</td>\n",
       "      <td>personal_care</td>\n",
       "      <td>28.29</td>\n",
       "      <td>Cody</td>\n",
       "      <td>Miller</td>\n",
       "      <td>M</td>\n",
       "      <td>25748 John Wells</td>\n",
       "      <td>Mooresville</td>\n",
       "      <td>NC</td>\n",
       "      <td>28117</td>\n",
       "      <td>35.5840</td>\n",
       "      <td>-80.8685</td>\n",
       "      <td>69793</td>\n",
       "      <td>Control and instrumentation engineer</td>\n",
       "      <td>1953-12-08</td>\n",
       "      <td>b661b479737ba89a31a7a914feaf988e</td>\n",
       "      <td>1388531447</td>\n",
       "      <td>35.613490</td>\n",
       "      <td>-80.464066</td>\n",
       "      <td>0</td>\n",
       "      <td>2020</td>\n",
       "      <td>12</td>\n",
       "      <td>23</td>\n",
       "      <td>Airline</td>\n",
       "    </tr>\n",
       "    <tr>\n",
       "      <th>555636</th>\n",
       "      <td>555636</td>\n",
       "      <td>2020-12-31 23:29:56</td>\n",
       "      <td>180094419304907</td>\n",
       "      <td>fraud_Reilly and Sons</td>\n",
       "      <td>health_fitness</td>\n",
       "      <td>7.08</td>\n",
       "      <td>Sharon</td>\n",
       "      <td>Smith</td>\n",
       "      <td>F</td>\n",
       "      <td>17666 David Valleys</td>\n",
       "      <td>Sun City</td>\n",
       "      <td>CA</td>\n",
       "      <td>92585</td>\n",
       "      <td>33.7467</td>\n",
       "      <td>-117.1721</td>\n",
       "      <td>54287</td>\n",
       "      <td>Designer, exhibition/display</td>\n",
       "      <td>1972-09-22</td>\n",
       "      <td>97282c79126e59ed33d5aeeb584dde66</td>\n",
       "      <td>1388532596</td>\n",
       "      <td>33.150769</td>\n",
       "      <td>-117.345739</td>\n",
       "      <td>0</td>\n",
       "      <td>2020</td>\n",
       "      <td>12</td>\n",
       "      <td>23</td>\n",
       "      <td>Airline</td>\n",
       "    </tr>\n",
       "    <tr>\n",
       "      <th>555657</th>\n",
       "      <td>555657</td>\n",
       "      <td>2020-12-31 23:35:40</td>\n",
       "      <td>180094419304907</td>\n",
       "      <td>fraud_Morissette PLC</td>\n",
       "      <td>shopping_pos</td>\n",
       "      <td>3.74</td>\n",
       "      <td>Sharon</td>\n",
       "      <td>Smith</td>\n",
       "      <td>F</td>\n",
       "      <td>17666 David Valleys</td>\n",
       "      <td>Sun City</td>\n",
       "      <td>CA</td>\n",
       "      <td>92585</td>\n",
       "      <td>33.7467</td>\n",
       "      <td>-117.1721</td>\n",
       "      <td>54287</td>\n",
       "      <td>Designer, exhibition/display</td>\n",
       "      <td>1972-09-22</td>\n",
       "      <td>70d942d3ff9b560e1f3de30466db6a8f</td>\n",
       "      <td>1388532940</td>\n",
       "      <td>33.712875</td>\n",
       "      <td>-116.267520</td>\n",
       "      <td>0</td>\n",
       "      <td>2020</td>\n",
       "      <td>12</td>\n",
       "      <td>23</td>\n",
       "      <td>Airline</td>\n",
       "    </tr>\n",
       "    <tr>\n",
       "      <th>555680</th>\n",
       "      <td>555680</td>\n",
       "      <td>2020-12-31 23:43:41</td>\n",
       "      <td>180040027502291</td>\n",
       "      <td>fraud_Homenick LLC</td>\n",
       "      <td>personal_care</td>\n",
       "      <td>55.53</td>\n",
       "      <td>Mary</td>\n",
       "      <td>Schmidt</td>\n",
       "      <td>F</td>\n",
       "      <td>022 Moore Island</td>\n",
       "      <td>New York City</td>\n",
       "      <td>NY</td>\n",
       "      <td>10162</td>\n",
       "      <td>40.7699</td>\n",
       "      <td>-73.9511</td>\n",
       "      <td>1577385</td>\n",
       "      <td>Audiological scientist</td>\n",
       "      <td>1957-12-29</td>\n",
       "      <td>b6daca9f6df7447c7f9503a8a1361685</td>\n",
       "      <td>1388533421</td>\n",
       "      <td>41.111950</td>\n",
       "      <td>-73.872571</td>\n",
       "      <td>0</td>\n",
       "      <td>2020</td>\n",
       "      <td>12</td>\n",
       "      <td>23</td>\n",
       "      <td>Airline</td>\n",
       "    </tr>\n",
       "  </tbody>\n",
       "</table>\n",
       "<p>57119 rows × 27 columns</p>\n",
       "</div>"
      ],
      "text/plain": [
       "        Unnamed: 0 trans_date_trans_time           cc_num  \\\n",
       "12              12   2019-01-01 00:06:56  180042946491150   \n",
       "22              22   2019-01-01 00:17:16  180048185037117   \n",
       "30              30   2019-01-01 00:22:36  180094608895855   \n",
       "44              44   2019-01-01 00:32:15  180067784565096   \n",
       "93              93   2019-01-01 01:09:57  180048185037117   \n",
       "...            ...                   ...              ...   \n",
       "555515      555515   2020-12-31 22:45:04  180031190491743   \n",
       "555585      555585   2020-12-31 23:10:47  180072527505094   \n",
       "555636      555636   2020-12-31 23:29:56  180094419304907   \n",
       "555657      555657   2020-12-31 23:35:40  180094419304907   \n",
       "555680      555680   2020-12-31 23:43:41  180040027502291   \n",
       "\n",
       "                                 merchant        category     amt    first  \\\n",
       "12                      fraud_Lockman Ltd     grocery_pos   71.22  Charles   \n",
       "22                      fraud_Kling-Grant     grocery_net   46.28     Mary   \n",
       "30      fraud_Kihn, Abernathy and Douglas    shopping_net    3.66   Tammie   \n",
       "44                    fraud_Koepp-Witting     grocery_pos  130.40     Mary   \n",
       "93             fraud_Rippin, Kub and Mann        misc_net    3.79     Mary   \n",
       "...                                   ...             ...     ...      ...   \n",
       "555515               fraud_Erdman-Schaden   personal_care   56.32    Becky   \n",
       "555585              fraud_Gottlieb-Hansen   personal_care   28.29     Cody   \n",
       "555636              fraud_Reilly and Sons  health_fitness    7.08   Sharon   \n",
       "555657               fraud_Morissette PLC    shopping_pos    3.74   Sharon   \n",
       "555680                 fraud_Homenick LLC   personal_care   55.53     Mary   \n",
       "\n",
       "            last gender                      street              city state  \\\n",
       "12        Robles      M            3337 Lisa Divide  Saint Petersburg    FL   \n",
       "22          Wall      F             2481 Mills Lock        Plainfield    NJ   \n",
       "30        Harper      F      57887 Gutierrez Harbor           Westfir    OR   \n",
       "44        Juarez      F          35440 Ryan Islands     North Prairie    WI   \n",
       "93          Wall      F             2481 Mills Lock        Plainfield    NJ   \n",
       "...          ...    ...                         ...               ...   ...   \n",
       "555515  Mckinney      F  250 Benjamin Hill Apt. 026            Mobile    AL   \n",
       "555585    Miller      M            25748 John Wells       Mooresville    NC   \n",
       "555636     Smith      F         17666 David Valleys          Sun City    CA   \n",
       "555657     Smith      F         17666 David Valleys          Sun City    CA   \n",
       "555680   Schmidt      F            022 Moore Island     New York City    NY   \n",
       "\n",
       "          zip      lat      long  city_pop  \\\n",
       "12      33710  27.7898  -82.7243    341043   \n",
       "22       7060  40.6152  -74.4150     71485   \n",
       "30      97492  43.7575 -122.4810       597   \n",
       "44      53153  42.9385  -88.3950      2328   \n",
       "93       7060  40.6152  -74.4150     71485   \n",
       "...       ...      ...       ...       ...   \n",
       "555515  36617  30.7145  -88.0918    270712   \n",
       "555585  28117  35.5840  -80.8685     69793   \n",
       "555636  92585  33.7467 -117.1721     54287   \n",
       "555657  92585  33.7467 -117.1721     54287   \n",
       "555680  10162  40.7699  -73.9511   1577385   \n",
       "\n",
       "                                         job         dob  \\\n",
       "12                            Engineer, land  1989-02-28   \n",
       "22                    Leisure centre manager  1974-07-19   \n",
       "30                     Forensic psychologist  1961-05-19   \n",
       "44                    Applications developer  1942-01-06   \n",
       "93                    Leisure centre manager  1974-07-19   \n",
       "...                                      ...         ...   \n",
       "555515              Surveyor, land/geomatics  1972-01-05   \n",
       "555585  Control and instrumentation engineer  1953-12-08   \n",
       "555636          Designer, exhibition/display  1972-09-22   \n",
       "555657          Designer, exhibition/display  1972-09-22   \n",
       "555680                Audiological scientist  1957-12-29   \n",
       "\n",
       "                               trans_num   unix_time  merch_lat  merch_long  \\\n",
       "12      c1d9a7ddb1e34639fe82758de97f4abf  1325376416  27.630593  -82.308891   \n",
       "22      19e23c6a300c774354417befe4f31f8c  1325377036  40.021888  -74.228188   \n",
       "30      870c92b288a974a2faf1f24b05c27e33  1325377356  44.278191 -121.815161   \n",
       "44      14a6e29ac65424550ea7e7c9f551dbb8  1325377935  42.236269  -88.397336   \n",
       "93      7c63dd07b14aac7dc99f4587d83dd599  1325380197  40.813669  -75.283465   \n",
       "...                                  ...         ...        ...         ...   \n",
       "555515  28e49423472cde125911f3650a0cdcdb  1388529904  30.416579  -88.991330   \n",
       "555585  b661b479737ba89a31a7a914feaf988e  1388531447  35.613490  -80.464066   \n",
       "555636  97282c79126e59ed33d5aeeb584dde66  1388532596  33.150769 -117.345739   \n",
       "555657  70d942d3ff9b560e1f3de30466db6a8f  1388532940  33.712875 -116.267520   \n",
       "555680  b6daca9f6df7447c7f9503a8a1361685  1388533421  41.111950  -73.872571   \n",
       "\n",
       "        is_fraud  year_trans  month_trans  hour_trans card_provider  \n",
       "12             0        2019            1           0       Airline  \n",
       "22             0        2019            1           0       Airline  \n",
       "30             0        2019            1           0       Airline  \n",
       "44             0        2019            1           0       Airline  \n",
       "93             0        2019            1           1       Airline  \n",
       "...          ...         ...          ...         ...           ...  \n",
       "555515         0        2020           12          22       Airline  \n",
       "555585         0        2020           12          23       Airline  \n",
       "555636         0        2020           12          23       Airline  \n",
       "555657         0        2020           12          23       Airline  \n",
       "555680         0        2020           12          23       Airline  \n",
       "\n",
       "[57119 rows x 27 columns]"
      ]
     },
     "execution_count": 24,
     "metadata": {},
     "output_type": "execute_result"
    }
   ],
   "source": [
    "data[data['card_provider'] == 'Airline']"
   ]
  },
  {
   "cell_type": "markdown",
   "id": "a6813ab4",
   "metadata": {
    "id": "a6813ab4"
   },
   "source": [
    "## Data Spliting"
   ]
  },
  {
   "cell_type": "code",
   "execution_count": 25,
   "id": "6bbf2019",
   "metadata": {
    "id": "6bbf2019"
   },
   "outputs": [],
   "source": [
    "from sklearn.model_selection import train_test_split\n",
    "\n",
    "X = data.drop(columns = ['is_fraud'])\n",
    "y = data['is_fraud']\n",
    "\n",
    "X_train, X_test, y_train, y_test = train_test_split(X, y, test_size=0.2, random_state=42)"
   ]
  },
  {
   "cell_type": "code",
   "execution_count": 26,
   "id": "accf9f24",
   "metadata": {
    "colab": {
     "base_uri": "https://localhost:8080/"
    },
    "id": "accf9f24",
    "outputId": "c6bd5054-1dcf-4ee7-99b7-42aea1a0d822"
   },
   "outputs": [
    {
     "name": "stdout",
     "output_type": "stream",
     "text": [
      "(1481915, 26)\n",
      "(370479, 26)\n",
      "(1481915,)\n",
      "(370479,)\n"
     ]
    }
   ],
   "source": [
    "print(X_train.shape)\n",
    "print(X_test.shape)\n",
    "print(y_train.shape)\n",
    "print(y_test.shape)"
   ]
  },
  {
   "cell_type": "code",
   "execution_count": 27,
   "id": "e8dfb98c",
   "metadata": {
    "colab": {
     "base_uri": "https://localhost:8080/"
    },
    "id": "e8dfb98c",
    "outputId": "3076b7fb-f658-467e-8723-2ac90cc5d9a7"
   },
   "outputs": [
    {
     "data": {
      "text/plain": [
       "is_fraud\n",
       "0    1474217\n",
       "1       7698\n",
       "Name: count, dtype: int64"
      ]
     },
     "execution_count": 27,
     "metadata": {},
     "output_type": "execute_result"
    }
   ],
   "source": [
    "y_train.value_counts()"
   ]
  },
  {
   "cell_type": "code",
   "execution_count": 28,
   "id": "59243f93",
   "metadata": {
    "id": "59243f93"
   },
   "outputs": [],
   "source": [
    "X_train_1 = X_train.copy()\n",
    "X_test_1 = X_test.copy()\n",
    "y_train_1 = y_train.copy()\n",
    "y_test_1 = y_test.copy()"
   ]
  },
  {
   "cell_type": "markdown",
   "id": "420da1ef",
   "metadata": {
    "id": "420da1ef"
   },
   "source": [
    "# Data Preprocessing"
   ]
  },
  {
   "cell_type": "markdown",
   "id": "fd18b335",
   "metadata": {
    "id": "fd18b335"
   },
   "source": [
    "## Experiment - 1"
   ]
  },
  {
   "cell_type": "code",
   "execution_count": 29,
   "id": "456d6b05",
   "metadata": {
    "id": "456d6b05"
   },
   "outputs": [],
   "source": [
    "# Label Encoding for Gender\n",
    "from sklearn.preprocessing import LabelEncoder\n",
    "\n",
    "labelencoder = LabelEncoder()\n",
    "X_train_1['gender_label'] = labelencoder.fit_transform(X_train_1['gender'])\n",
    "X_test_1['gender_label'] = labelencoder.transform(X_test_1['gender'])\n",
    "\n",
    "X_train_1['provider_label'] = labelencoder.fit_transform(X_train_1['card_provider'])\n",
    "X_test_1['provider_label'] = labelencoder.transform(X_test_1['card_provider'])"
   ]
  },
  {
   "cell_type": "code",
   "execution_count": 30,
   "id": "1890ad7a",
   "metadata": {
    "colab": {
     "base_uri": "https://localhost:8080/"
    },
    "id": "1890ad7a",
    "outputId": "c2872fa3-aef9-440b-f1e7-5f59e2c36bfe"
   },
   "outputs": [
    {
     "data": {
      "text/plain": [
       "{'M': 1, 'F': 0}"
      ]
     },
     "execution_count": 30,
     "metadata": {},
     "output_type": "execute_result"
    }
   ],
   "source": [
    "gender_encode_dict = dict(zip(X_train_1['gender'], X_train_1['gender_label']))\n",
    "gender_encode_dict"
   ]
  },
  {
   "cell_type": "code",
   "execution_count": 31,
   "id": "75edc160",
   "metadata": {
    "colab": {
     "base_uri": "https://localhost:8080/"
    },
    "id": "75edc160",
    "outputId": "738c5c12-dc5e-4f07-bd85-f2b6aa04e0d5"
   },
   "outputs": [
    {
     "data": {
      "text/plain": [
       "{'Discover': 3,\n",
       " 'American Express': 2,\n",
       " 'Airline and Financial': 1,\n",
       " 'Visa': 5,\n",
       " 'Mastercard': 4,\n",
       " 'Airline': 0}"
      ]
     },
     "execution_count": 31,
     "metadata": {},
     "output_type": "execute_result"
    }
   ],
   "source": [
    "provider_freq_encode_dict = dict(zip(X_train_1['card_provider'], X_train_1['provider_label']))\n",
    "provider_freq_encode_dict"
   ]
  },
  {
   "cell_type": "markdown",
   "id": "a5991abe",
   "metadata": {
    "id": "a5991abe"
   },
   "source": [
    "**Label Order**:\n",
    "0. Airline\n",
    "1. Airline and Financial\n",
    "2. American Express\n",
    "3. Discover\n",
    "4. Mastercard\n",
    "5. Visa"
   ]
  },
  {
   "cell_type": "code",
   "execution_count": null,
   "id": "bf8d388c",
   "metadata": {
    "id": "bf8d388c"
   },
   "outputs": [],
   "source": []
  },
  {
   "cell_type": "code",
   "execution_count": 32,
   "id": "0098a85c",
   "metadata": {
    "colab": {
     "base_uri": "https://localhost:8080/"
    },
    "id": "0098a85c",
    "outputId": "bd105175-b12a-4620-fc2d-a83f8c31b782"
   },
   "outputs": [
    {
     "data": {
      "text/plain": [
       "category\n",
       "gas_transport     150472\n",
       "grocery_pos       140826\n",
       "home              140552\n",
       "shopping_pos      133070\n",
       "kids_pets         129868\n",
       "shopping_net      111368\n",
       "entertainment     107157\n",
       "food_dining       104411\n",
       "personal_care     104086\n",
       "health_fitness     98102\n",
       "misc_pos           91125\n",
       "misc_net           72705\n",
       "grocery_net        51827\n",
       "travel             46346\n",
       "Name: count, dtype: int64"
      ]
     },
     "execution_count": 32,
     "metadata": {},
     "output_type": "execute_result"
    }
   ],
   "source": [
    "X_train_1['category'].value_counts()"
   ]
  },
  {
   "cell_type": "code",
   "execution_count": 33,
   "id": "caeb519a",
   "metadata": {
    "id": "caeb519a"
   },
   "outputs": [],
   "source": [
    "# Frequency Encoding for Category and State\n",
    "frequency_cat_train = X_train_1['category'].value_counts(normalize=True)\n",
    "X_train_1['category_encode'] = X_train_1['category'].map(frequency_cat_train)\n",
    "\n",
    "frequency_cat_test = X_test_1['category'].value_counts(normalize=True)\n",
    "X_test_1['category_encode'] = X_test_1['category'].map(frequency_cat_test)\n",
    "\n",
    "\n",
    "frequency_state_train = X_train_1['state'].value_counts(normalize=True)\n",
    "X_train_1['state_encode'] = X_train_1['state'].map(frequency_state_train)\n",
    "\n",
    "frequency_state_test = X_test_1['state'].value_counts(normalize=True)\n",
    "X_test_1['state_encode'] = X_test_1['state'].map(frequency_state_test)\n",
    "\n",
    "\n",
    "#Count Frequency CC_NUM\n",
    "value_counts_cc_train = X_train_1['cc_num'].value_counts().reset_index()\n",
    "value_counts_cc_test = X_test_1['cc_num'].value_counts().reset_index()\n",
    "\n",
    "value_counts_cc_train.columns = ['cc_num', 'cc_num_count']\n",
    "value_counts_cc_test.columns = ['cc_num', 'cc_num_count']\n",
    "\n",
    "# Menyatukan hasil dengan DataFrame X_train_1 berdasarkan kolom 'cc_num'\n",
    "X_train_1 = pd.merge(X_train_1, value_counts_cc_train, on='cc_num', how='left')\n",
    "X_test_1 = pd.merge(X_test_1, value_counts_cc_test, on='cc_num', how='left')"
   ]
  },
  {
   "cell_type": "code",
   "execution_count": 34,
   "id": "c9850a61",
   "metadata": {
    "colab": {
     "base_uri": "https://localhost:8080/",
     "height": 452
    },
    "id": "c9850a61",
    "outputId": "babb13b8-99a6-4301-a6c4-4ee24784e9c2"
   },
   "outputs": [
    {
     "data": {
      "text/html": [
       "<div>\n",
       "<style scoped>\n",
       "    .dataframe tbody tr th:only-of-type {\n",
       "        vertical-align: middle;\n",
       "    }\n",
       "\n",
       "    .dataframe tbody tr th {\n",
       "        vertical-align: top;\n",
       "    }\n",
       "\n",
       "    .dataframe thead th {\n",
       "        text-align: right;\n",
       "    }\n",
       "</style>\n",
       "<table border=\"1\" class=\"dataframe\">\n",
       "  <thead>\n",
       "    <tr style=\"text-align: right;\">\n",
       "      <th></th>\n",
       "      <th>Unnamed: 0</th>\n",
       "      <th>trans_date_trans_time</th>\n",
       "      <th>cc_num</th>\n",
       "      <th>merchant</th>\n",
       "      <th>category</th>\n",
       "      <th>amt</th>\n",
       "      <th>first</th>\n",
       "      <th>last</th>\n",
       "      <th>gender</th>\n",
       "      <th>street</th>\n",
       "      <th>city</th>\n",
       "      <th>state</th>\n",
       "      <th>zip</th>\n",
       "      <th>lat</th>\n",
       "      <th>long</th>\n",
       "      <th>city_pop</th>\n",
       "      <th>job</th>\n",
       "      <th>dob</th>\n",
       "      <th>trans_num</th>\n",
       "      <th>unix_time</th>\n",
       "      <th>merch_lat</th>\n",
       "      <th>merch_long</th>\n",
       "      <th>year_trans</th>\n",
       "      <th>month_trans</th>\n",
       "      <th>hour_trans</th>\n",
       "      <th>card_provider</th>\n",
       "      <th>gender_label</th>\n",
       "      <th>provider_label</th>\n",
       "      <th>category_encode</th>\n",
       "      <th>state_encode</th>\n",
       "      <th>cc_num_count</th>\n",
       "    </tr>\n",
       "  </thead>\n",
       "  <tbody>\n",
       "    <tr>\n",
       "      <th>0</th>\n",
       "      <td>1273644</td>\n",
       "      <td>2020-06-13 07:35:03</td>\n",
       "      <td>6511349151405438</td>\n",
       "      <td>fraud_Bauch-Raynor</td>\n",
       "      <td>grocery_pos</td>\n",
       "      <td>166.80</td>\n",
       "      <td>Robert</td>\n",
       "      <td>Nguyen</td>\n",
       "      <td>M</td>\n",
       "      <td>74835 Garner Point</td>\n",
       "      <td>Ruth</td>\n",
       "      <td>NV</td>\n",
       "      <td>89319</td>\n",
       "      <td>39.3426</td>\n",
       "      <td>-114.8859</td>\n",
       "      <td>450</td>\n",
       "      <td>Interpreter</td>\n",
       "      <td>1946-08-24</td>\n",
       "      <td>3e4b99bb6df3b598481049f9814045be</td>\n",
       "      <td>1371108903</td>\n",
       "      <td>40.088507</td>\n",
       "      <td>-113.895268</td>\n",
       "      <td>2020</td>\n",
       "      <td>6</td>\n",
       "      <td>7</td>\n",
       "      <td>Discover</td>\n",
       "      <td>1</td>\n",
       "      <td>3</td>\n",
       "      <td>0.095030</td>\n",
       "      <td>0.004353</td>\n",
       "      <td>1772</td>\n",
       "    </tr>\n",
       "    <tr>\n",
       "      <th>1</th>\n",
       "      <td>601398</td>\n",
       "      <td>2019-09-12 19:09:06</td>\n",
       "      <td>3566094707272327</td>\n",
       "      <td>fraud_Ruecker, Beer and Collier</td>\n",
       "      <td>shopping_net</td>\n",
       "      <td>28.86</td>\n",
       "      <td>Kristina</td>\n",
       "      <td>Stewart</td>\n",
       "      <td>F</td>\n",
       "      <td>47029 Jimmy Tunnel Apt. 106</td>\n",
       "      <td>Newhall</td>\n",
       "      <td>CA</td>\n",
       "      <td>91321</td>\n",
       "      <td>34.3795</td>\n",
       "      <td>-118.5230</td>\n",
       "      <td>34882</td>\n",
       "      <td>Health physicist</td>\n",
       "      <td>1971-04-25</td>\n",
       "      <td>17e18be0c0f0245544e56ca44b63978b</td>\n",
       "      <td>1347476946</td>\n",
       "      <td>35.356925</td>\n",
       "      <td>-119.348148</td>\n",
       "      <td>2019</td>\n",
       "      <td>9</td>\n",
       "      <td>19</td>\n",
       "      <td>American Express</td>\n",
       "      <td>0</td>\n",
       "      <td>2</td>\n",
       "      <td>0.075151</td>\n",
       "      <td>0.043398</td>\n",
       "      <td>3513</td>\n",
       "    </tr>\n",
       "    <tr>\n",
       "      <th>2</th>\n",
       "      <td>999645</td>\n",
       "      <td>2020-02-14 05:31:05</td>\n",
       "      <td>3573030041201292</td>\n",
       "      <td>fraud_Eichmann, Bogan and Rodriguez</td>\n",
       "      <td>gas_transport</td>\n",
       "      <td>37.93</td>\n",
       "      <td>Joanne</td>\n",
       "      <td>Williams</td>\n",
       "      <td>F</td>\n",
       "      <td>3638 Marsh Union</td>\n",
       "      <td>Altonah</td>\n",
       "      <td>UT</td>\n",
       "      <td>84002</td>\n",
       "      <td>40.3207</td>\n",
       "      <td>-110.4360</td>\n",
       "      <td>302</td>\n",
       "      <td>Sales professional, IT</td>\n",
       "      <td>1990-01-17</td>\n",
       "      <td>918b089265c316c749add59bfee4d7fc</td>\n",
       "      <td>1360819865</td>\n",
       "      <td>40.422976</td>\n",
       "      <td>-110.786285</td>\n",
       "      <td>2020</td>\n",
       "      <td>2</td>\n",
       "      <td>5</td>\n",
       "      <td>American Express</td>\n",
       "      <td>0</td>\n",
       "      <td>2</td>\n",
       "      <td>0.101539</td>\n",
       "      <td>0.008311</td>\n",
       "      <td>2337</td>\n",
       "    </tr>\n",
       "    <tr>\n",
       "      <th>3</th>\n",
       "      <td>1180310</td>\n",
       "      <td>2020-05-08 00:33:15</td>\n",
       "      <td>213173753804333</td>\n",
       "      <td>fraud_Wiza, Schaden and Stark</td>\n",
       "      <td>misc_pos</td>\n",
       "      <td>18.70</td>\n",
       "      <td>Joseph</td>\n",
       "      <td>Wagner</td>\n",
       "      <td>M</td>\n",
       "      <td>822 Austin Spur</td>\n",
       "      <td>North Judson</td>\n",
       "      <td>IN</td>\n",
       "      <td>46366</td>\n",
       "      <td>41.2244</td>\n",
       "      <td>-86.6966</td>\n",
       "      <td>5791</td>\n",
       "      <td>Doctor, general practice</td>\n",
       "      <td>1959-10-07</td>\n",
       "      <td>5246dcc919d65b2343a625a699241229</td>\n",
       "      <td>1367973195</td>\n",
       "      <td>40.254936</td>\n",
       "      <td>-85.751919</td>\n",
       "      <td>2020</td>\n",
       "      <td>5</td>\n",
       "      <td>0</td>\n",
       "      <td>Airline and Financial</td>\n",
       "      <td>1</td>\n",
       "      <td>1</td>\n",
       "      <td>0.061491</td>\n",
       "      <td>0.021474</td>\n",
       "      <td>1762</td>\n",
       "    </tr>\n",
       "    <tr>\n",
       "      <th>4</th>\n",
       "      <td>213847</td>\n",
       "      <td>2020-09-05 02:31:11</td>\n",
       "      <td>373905417449658</td>\n",
       "      <td>fraud_Zemlak Group</td>\n",
       "      <td>misc_net</td>\n",
       "      <td>33.54</td>\n",
       "      <td>Sarah</td>\n",
       "      <td>Bishop</td>\n",
       "      <td>F</td>\n",
       "      <td>554 Mcdonald Valley Apt. 539</td>\n",
       "      <td>Meridian</td>\n",
       "      <td>TX</td>\n",
       "      <td>76665</td>\n",
       "      <td>31.9290</td>\n",
       "      <td>-97.6443</td>\n",
       "      <td>2526</td>\n",
       "      <td>Phytotherapist</td>\n",
       "      <td>1970-11-12</td>\n",
       "      <td>a035b0d7834b2259bcc9b9b38bcb7db4</td>\n",
       "      <td>1378348271</td>\n",
       "      <td>32.397579</td>\n",
       "      <td>-97.395488</td>\n",
       "      <td>2020</td>\n",
       "      <td>9</td>\n",
       "      <td>2</td>\n",
       "      <td>American Express</td>\n",
       "      <td>0</td>\n",
       "      <td>2</td>\n",
       "      <td>0.049062</td>\n",
       "      <td>0.072934</td>\n",
       "      <td>2916</td>\n",
       "    </tr>\n",
       "  </tbody>\n",
       "</table>\n",
       "</div>"
      ],
      "text/plain": [
       "   Unnamed: 0 trans_date_trans_time            cc_num  \\\n",
       "0     1273644   2020-06-13 07:35:03  6511349151405438   \n",
       "1      601398   2019-09-12 19:09:06  3566094707272327   \n",
       "2      999645   2020-02-14 05:31:05  3573030041201292   \n",
       "3     1180310   2020-05-08 00:33:15   213173753804333   \n",
       "4      213847   2020-09-05 02:31:11   373905417449658   \n",
       "\n",
       "                              merchant       category     amt     first  \\\n",
       "0                   fraud_Bauch-Raynor    grocery_pos  166.80    Robert   \n",
       "1      fraud_Ruecker, Beer and Collier   shopping_net   28.86  Kristina   \n",
       "2  fraud_Eichmann, Bogan and Rodriguez  gas_transport   37.93    Joanne   \n",
       "3        fraud_Wiza, Schaden and Stark       misc_pos   18.70    Joseph   \n",
       "4                   fraud_Zemlak Group       misc_net   33.54     Sarah   \n",
       "\n",
       "       last gender                        street          city state    zip  \\\n",
       "0    Nguyen      M            74835 Garner Point          Ruth    NV  89319   \n",
       "1   Stewart      F   47029 Jimmy Tunnel Apt. 106       Newhall    CA  91321   \n",
       "2  Williams      F              3638 Marsh Union       Altonah    UT  84002   \n",
       "3    Wagner      M               822 Austin Spur  North Judson    IN  46366   \n",
       "4    Bishop      F  554 Mcdonald Valley Apt. 539      Meridian    TX  76665   \n",
       "\n",
       "       lat      long  city_pop                       job         dob  \\\n",
       "0  39.3426 -114.8859       450               Interpreter  1946-08-24   \n",
       "1  34.3795 -118.5230     34882          Health physicist  1971-04-25   \n",
       "2  40.3207 -110.4360       302    Sales professional, IT  1990-01-17   \n",
       "3  41.2244  -86.6966      5791  Doctor, general practice  1959-10-07   \n",
       "4  31.9290  -97.6443      2526            Phytotherapist  1970-11-12   \n",
       "\n",
       "                          trans_num   unix_time  merch_lat  merch_long  \\\n",
       "0  3e4b99bb6df3b598481049f9814045be  1371108903  40.088507 -113.895268   \n",
       "1  17e18be0c0f0245544e56ca44b63978b  1347476946  35.356925 -119.348148   \n",
       "2  918b089265c316c749add59bfee4d7fc  1360819865  40.422976 -110.786285   \n",
       "3  5246dcc919d65b2343a625a699241229  1367973195  40.254936  -85.751919   \n",
       "4  a035b0d7834b2259bcc9b9b38bcb7db4  1378348271  32.397579  -97.395488   \n",
       "\n",
       "   year_trans  month_trans  hour_trans          card_provider  gender_label  \\\n",
       "0        2020            6           7               Discover             1   \n",
       "1        2019            9          19       American Express             0   \n",
       "2        2020            2           5       American Express             0   \n",
       "3        2020            5           0  Airline and Financial             1   \n",
       "4        2020            9           2       American Express             0   \n",
       "\n",
       "   provider_label  category_encode  state_encode  cc_num_count  \n",
       "0               3         0.095030      0.004353          1772  \n",
       "1               2         0.075151      0.043398          3513  \n",
       "2               2         0.101539      0.008311          2337  \n",
       "3               1         0.061491      0.021474          1762  \n",
       "4               2         0.049062      0.072934          2916  "
      ]
     },
     "execution_count": 34,
     "metadata": {},
     "output_type": "execute_result"
    }
   ],
   "source": [
    "X_train_1.head(5)"
   ]
  },
  {
   "cell_type": "code",
   "execution_count": 35,
   "id": "5bb88fb7",
   "metadata": {
    "id": "5bb88fb7",
    "scrolled": true
   },
   "outputs": [],
   "source": [
    "state_freq_encode_dict = dict(zip(X_train_1['state'], X_train_1['state_encode']))"
   ]
  },
  {
   "cell_type": "code",
   "execution_count": 36,
   "id": "9219d88d",
   "metadata": {
    "id": "9219d88d",
    "scrolled": true
   },
   "outputs": [],
   "source": [
    "# state_freq_encode_dict"
   ]
  },
  {
   "cell_type": "code",
   "execution_count": null,
   "id": "6425e274",
   "metadata": {
    "id": "6425e274"
   },
   "outputs": [],
   "source": []
  },
  {
   "cell_type": "code",
   "execution_count": null,
   "id": "7236df88",
   "metadata": {
    "id": "7236df88"
   },
   "outputs": [],
   "source": []
  },
  {
   "cell_type": "code",
   "execution_count": null,
   "id": "ed12974c",
   "metadata": {
    "id": "ed12974c"
   },
   "outputs": [],
   "source": []
  },
  {
   "cell_type": "code",
   "execution_count": null,
   "id": "4e525daa",
   "metadata": {
    "id": "4e525daa"
   },
   "outputs": [],
   "source": []
  },
  {
   "cell_type": "markdown",
   "id": "9988be0d",
   "metadata": {
    "id": "9988be0d"
   },
   "source": [
    "## Scaling"
   ]
  },
  {
   "cell_type": "code",
   "execution_count": 37,
   "id": "3381dd66",
   "metadata": {
    "id": "3381dd66"
   },
   "outputs": [],
   "source": [
    "from sklearn.preprocessing import StandardScaler\n",
    "\n",
    "ss = StandardScaler()\n",
    "selected_features = ['amt', 'year_trans', 'month_trans', 'hour_trans', 'provider_label', 'gender_label', 'category_encode', 'state_encode', 'cc_num_count']\n",
    "# ss_features = ['amt', 'year_trans', 'month_trans', 'hour_trans', 'provider_label']\n",
    "# non_ss_features = selected_features = ['gender_label', 'category_encode', 'state_encode']\n",
    "\n",
    "X_train_scaled_1 = pd.DataFrame(ss.fit_transform(X_train_1[selected_features]), columns=selected_features)\n",
    "X_test_scaled_1 = pd.DataFrame(ss.transform(X_test_1[selected_features]), columns=selected_features)"
   ]
  },
  {
   "cell_type": "code",
   "execution_count": 38,
   "id": "5f905b90",
   "metadata": {
    "colab": {
     "base_uri": "https://localhost:8080/",
     "height": 424
    },
    "id": "5f905b90",
    "outputId": "87ce9616-a85f-46b0-8c91-e39635f57aa9"
   },
   "outputs": [
    {
     "data": {
      "text/html": [
       "<div>\n",
       "<style scoped>\n",
       "    .dataframe tbody tr th:only-of-type {\n",
       "        vertical-align: middle;\n",
       "    }\n",
       "\n",
       "    .dataframe tbody tr th {\n",
       "        vertical-align: top;\n",
       "    }\n",
       "\n",
       "    .dataframe thead th {\n",
       "        text-align: right;\n",
       "    }\n",
       "</style>\n",
       "<table border=\"1\" class=\"dataframe\">\n",
       "  <thead>\n",
       "    <tr style=\"text-align: right;\">\n",
       "      <th></th>\n",
       "      <th>amt</th>\n",
       "      <th>year_trans</th>\n",
       "      <th>month_trans</th>\n",
       "      <th>hour_trans</th>\n",
       "      <th>provider_label</th>\n",
       "      <th>gender_label</th>\n",
       "      <th>category_encode</th>\n",
       "      <th>state_encode</th>\n",
       "      <th>cc_num_count</th>\n",
       "    </tr>\n",
       "  </thead>\n",
       "  <tbody>\n",
       "    <tr>\n",
       "      <th>0</th>\n",
       "      <td>0.602463</td>\n",
       "      <td>0.998621</td>\n",
       "      <td>-0.336518</td>\n",
       "      <td>-0.852358</td>\n",
       "      <td>-0.018885</td>\n",
       "      <td>1.101001</td>\n",
       "      <td>0.940430</td>\n",
       "      <td>-1.387966</td>\n",
       "      <td>-0.361366</td>\n",
       "    </tr>\n",
       "    <tr>\n",
       "      <th>1</th>\n",
       "      <td>-0.256872</td>\n",
       "      <td>-1.001381</td>\n",
       "      <td>0.539523</td>\n",
       "      <td>0.908543</td>\n",
       "      <td>-0.666103</td>\n",
       "      <td>-0.908264</td>\n",
       "      <td>-0.133674</td>\n",
       "      <td>0.600628</td>\n",
       "      <td>1.679965</td>\n",
       "    </tr>\n",
       "    <tr>\n",
       "      <th>2</th>\n",
       "      <td>-0.200368</td>\n",
       "      <td>0.998621</td>\n",
       "      <td>-1.504573</td>\n",
       "      <td>-1.145842</td>\n",
       "      <td>-0.666103</td>\n",
       "      <td>-0.908264</td>\n",
       "      <td>1.292145</td>\n",
       "      <td>-1.186395</td>\n",
       "      <td>0.301099</td>\n",
       "    </tr>\n",
       "    <tr>\n",
       "      <th>3</th>\n",
       "      <td>-0.320166</td>\n",
       "      <td>0.998621</td>\n",
       "      <td>-0.628532</td>\n",
       "      <td>-1.879550</td>\n",
       "      <td>-1.313322</td>\n",
       "      <td>1.101001</td>\n",
       "      <td>-0.871779</td>\n",
       "      <td>-0.516004</td>\n",
       "      <td>-0.373091</td>\n",
       "    </tr>\n",
       "    <tr>\n",
       "      <th>4</th>\n",
       "      <td>-0.227717</td>\n",
       "      <td>0.998621</td>\n",
       "      <td>0.539523</td>\n",
       "      <td>-1.586067</td>\n",
       "      <td>-0.666103</td>\n",
       "      <td>-0.908264</td>\n",
       "      <td>-1.543414</td>\n",
       "      <td>2.104935</td>\n",
       "      <td>0.979980</td>\n",
       "    </tr>\n",
       "    <tr>\n",
       "      <th>...</th>\n",
       "      <td>...</td>\n",
       "      <td>...</td>\n",
       "      <td>...</td>\n",
       "      <td>...</td>\n",
       "      <td>...</td>\n",
       "      <td>...</td>\n",
       "      <td>...</td>\n",
       "      <td>...</td>\n",
       "      <td>...</td>\n",
       "    </tr>\n",
       "    <tr>\n",
       "      <th>1481910</th>\n",
       "      <td>-0.422148</td>\n",
       "      <td>-1.001381</td>\n",
       "      <td>-0.628532</td>\n",
       "      <td>-0.999100</td>\n",
       "      <td>-0.666103</td>\n",
       "      <td>-0.908264</td>\n",
       "      <td>-0.871779</td>\n",
       "      <td>-1.308265</td>\n",
       "      <td>-1.069559</td>\n",
       "    </tr>\n",
       "    <tr>\n",
       "      <th>1481911</th>\n",
       "      <td>-0.379848</td>\n",
       "      <td>0.998621</td>\n",
       "      <td>0.247510</td>\n",
       "      <td>1.055285</td>\n",
       "      <td>1.275552</td>\n",
       "      <td>-0.908264</td>\n",
       "      <td>-2.504522</td>\n",
       "      <td>-0.786965</td>\n",
       "      <td>-1.739060</td>\n",
       "    </tr>\n",
       "    <tr>\n",
       "      <th>1481912</th>\n",
       "      <td>0.300132</td>\n",
       "      <td>-1.001381</td>\n",
       "      <td>-1.212559</td>\n",
       "      <td>1.202026</td>\n",
       "      <td>-0.666103</td>\n",
       "      <td>-0.908264</td>\n",
       "      <td>0.930440</td>\n",
       "      <td>-0.964443</td>\n",
       "      <td>-1.094182</td>\n",
       "    </tr>\n",
       "    <tr>\n",
       "      <th>1481913</th>\n",
       "      <td>-0.401776</td>\n",
       "      <td>-1.001381</td>\n",
       "      <td>0.831537</td>\n",
       "      <td>-0.558875</td>\n",
       "      <td>-0.666103</td>\n",
       "      <td>1.101001</td>\n",
       "      <td>0.657629</td>\n",
       "      <td>-0.359902</td>\n",
       "      <td>-1.043764</td>\n",
       "    </tr>\n",
       "    <tr>\n",
       "      <th>1481914</th>\n",
       "      <td>0.440053</td>\n",
       "      <td>-1.001381</td>\n",
       "      <td>-1.212559</td>\n",
       "      <td>0.761801</td>\n",
       "      <td>-0.666103</td>\n",
       "      <td>-0.908264</td>\n",
       "      <td>-0.399192</td>\n",
       "      <td>-0.460670</td>\n",
       "      <td>0.287029</td>\n",
       "    </tr>\n",
       "  </tbody>\n",
       "</table>\n",
       "<p>1481915 rows × 9 columns</p>\n",
       "</div>"
      ],
      "text/plain": [
       "              amt  year_trans  month_trans  hour_trans  provider_label  \\\n",
       "0        0.602463    0.998621    -0.336518   -0.852358       -0.018885   \n",
       "1       -0.256872   -1.001381     0.539523    0.908543       -0.666103   \n",
       "2       -0.200368    0.998621    -1.504573   -1.145842       -0.666103   \n",
       "3       -0.320166    0.998621    -0.628532   -1.879550       -1.313322   \n",
       "4       -0.227717    0.998621     0.539523   -1.586067       -0.666103   \n",
       "...           ...         ...          ...         ...             ...   \n",
       "1481910 -0.422148   -1.001381    -0.628532   -0.999100       -0.666103   \n",
       "1481911 -0.379848    0.998621     0.247510    1.055285        1.275552   \n",
       "1481912  0.300132   -1.001381    -1.212559    1.202026       -0.666103   \n",
       "1481913 -0.401776   -1.001381     0.831537   -0.558875       -0.666103   \n",
       "1481914  0.440053   -1.001381    -1.212559    0.761801       -0.666103   \n",
       "\n",
       "         gender_label  category_encode  state_encode  cc_num_count  \n",
       "0            1.101001         0.940430     -1.387966     -0.361366  \n",
       "1           -0.908264        -0.133674      0.600628      1.679965  \n",
       "2           -0.908264         1.292145     -1.186395      0.301099  \n",
       "3            1.101001        -0.871779     -0.516004     -0.373091  \n",
       "4           -0.908264        -1.543414      2.104935      0.979980  \n",
       "...               ...              ...           ...           ...  \n",
       "1481910     -0.908264        -0.871779     -1.308265     -1.069559  \n",
       "1481911     -0.908264        -2.504522     -0.786965     -1.739060  \n",
       "1481912     -0.908264         0.930440     -0.964443     -1.094182  \n",
       "1481913      1.101001         0.657629     -0.359902     -1.043764  \n",
       "1481914     -0.908264        -0.399192     -0.460670      0.287029  \n",
       "\n",
       "[1481915 rows x 9 columns]"
      ]
     },
     "execution_count": 38,
     "metadata": {},
     "output_type": "execute_result"
    }
   ],
   "source": [
    "X_train_scaled_1"
   ]
  },
  {
   "cell_type": "code",
   "execution_count": 39,
   "id": "dd4cdb13",
   "metadata": {
    "id": "dd4cdb13"
   },
   "outputs": [],
   "source": [
    "# X_train_1.reset_index(drop=True, inplace=True)\n",
    "# X_test_1.reset_index(drop=True, inplace=True)\n",
    "\n",
    "# X_train_combined_1 = pd.concat([X_train_1[non_ss_features],\n",
    "#                                 X_train_scaled_1], axis=1)\n",
    "\n",
    "# X_test_combined_1 = pd.concat([X_test_1[non_ss_features],\n",
    "#                                 X_test_scaled_1], axis=1)"
   ]
  },
  {
   "cell_type": "code",
   "execution_count": 40,
   "id": "489e9a45",
   "metadata": {
    "id": "489e9a45",
    "scrolled": true
   },
   "outputs": [],
   "source": [
    "# X_test_combined_1"
   ]
  },
  {
   "cell_type": "markdown",
   "id": "681c0bad",
   "metadata": {
    "id": "681c0bad"
   },
   "source": [
    "# Modeling"
   ]
  },
  {
   "cell_type": "code",
   "execution_count": 41,
   "id": "6348a830",
   "metadata": {
    "id": "6348a830"
   },
   "outputs": [],
   "source": [
    "from sklearn.metrics import make_scorer, accuracy_score, precision_score, recall_score, f1_score, roc_auc_score, classification_report, confusion_matrix, precision_recall_curve, ConfusionMatrixDisplay\n",
    "from sklearn.model_selection import cross_validate\n",
    "\n",
    "def eval_classification(model, x_tra, x_tes, y_tra, y_tes, threshold):\n",
    "    #y_pred = model.predict(x_tes)\n",
    "    y_pred_train = model.predict(x_tra)\n",
    "    y_pred_proba_train = model.predict_proba(x_tra)\n",
    "\n",
    "    y_pred_proba = model.predict_proba(x_tes)\n",
    "\n",
    "    threshold = threshold\n",
    "    y_pred = (y_pred_proba[:, 1] >= threshold).astype('int')\n",
    "\n",
    "    print(classification_report(y_tes, y_pred))\n",
    "\n",
    "    print(\"Accuracy (Test Set): %.2f\" % accuracy_score(y_tes, y_pred))\n",
    "    print(\"Precision (Test Set): %.2f\" % precision_score(y_tes, y_pred))\n",
    "    print(\"Recall (Test Set): %.2f\" % recall_score(y_tes, y_pred))\n",
    "    print(\"F1-Score (Test Set): %.2f\" % f1_score(y_tes, y_pred))\n",
    "    print(\"roc_auc (test-proba): %.4f\" % roc_auc_score(y_tes, y_pred_proba[:, 1]))\n",
    "    print(\"roc_auc (train-proba): %.4f\" % roc_auc_score(y_tra, y_pred_proba_train[:, 1]))\n",
    "\n",
    "    #Plotting Confusion Matrix\n",
    "    cm = confusion_matrix(y_test, y_pred)\n",
    "\n",
    "    print(f\"Confusion Matrix: \\n {cm}\\n\")\n",
    "    disp = ConfusionMatrixDisplay(confusion_matrix=cm, display_labels=model.classes_)\n",
    "    disp.plot()\n",
    "    plt.show()"
   ]
  },
  {
   "cell_type": "markdown",
   "id": "b9b33ac5",
   "metadata": {
    "id": "b9b33ac5"
   },
   "source": [
    "## Oversampling (SMOTE)"
   ]
  },
  {
   "cell_type": "code",
   "execution_count": null,
   "id": "32142aa1",
   "metadata": {
    "id": "32142aa1"
   },
   "outputs": [],
   "source": []
  },
  {
   "cell_type": "code",
   "execution_count": 42,
   "id": "d78faa53",
   "metadata": {
    "id": "d78faa53"
   },
   "outputs": [],
   "source": [
    "from imblearn.over_sampling import SMOTE\n",
    "\n",
    "sm = SMOTE(random_state=42)\n",
    "X_train_resampled, y_train_resampled = sm.fit_resample(X_train_scaled_1, y_train_1)"
   ]
  },
  {
   "cell_type": "markdown",
   "id": "b877c003",
   "metadata": {
    "id": "b877c003"
   },
   "source": [
    "## Logistic Regression"
   ]
  },
  {
   "cell_type": "code",
   "execution_count": 46,
   "id": "90607331",
   "metadata": {
    "id": "90607331"
   },
   "outputs": [],
   "source": [
    "# from sklearn.linear_model import LogisticRegression\n",
    "\n",
    "# lr = LogisticRegression()\n",
    "# lr.fit(X_train_resampled, y_train_resampled)"
   ]
  },
  {
   "cell_type": "code",
   "execution_count": 43,
   "id": "efc6fce3",
   "metadata": {
    "colab": {
     "base_uri": "https://localhost:8080/",
     "height": 783
    },
    "id": "efc6fce3",
    "outputId": "e8399e6b-a262-4bbe-861e-6dc0a27dfed2"
   },
   "outputs": [
    {
     "name": "stdout",
     "output_type": "stream",
     "text": [
      "              precision    recall  f1-score   support\n",
      "\n",
      "           0       1.00      0.68      0.81    368526\n",
      "           1       0.01      0.82      0.03      1953\n",
      "\n",
      "    accuracy                           0.68    370479\n",
      "   macro avg       0.51      0.75      0.42    370479\n",
      "weighted avg       0.99      0.68      0.81    370479\n",
      "\n",
      "Accuracy (Test Set): 0.68\n",
      "Precision (Test Set): 0.01\n",
      "Recall (Test Set): 0.82\n",
      "F1-Score (Test Set): 0.03\n",
      "roc_auc (test-proba): 0.8672\n",
      "roc_auc (train-proba): 0.8854\n",
      "Confusion Matrix: \n",
      " [[251557 116969]\n",
      " [   357   1596]]\n",
      "\n"
     ]
    },
    {
     "data": {
      "image/png": "[encoded data removed]",
      "text/plain": [
       "<Figure size 640x480 with 2 Axes>"
      ]
     },
     "metadata": {},
     "output_type": "display_data"
    }
   ],
   "source": [
    "from sklearn.linear_model import LogisticRegression\n",
    "\n",
    "best_params_lr = {'C': 0.9, 'penalty': 'l1', 'solver': 'liblinear'}\n",
    "new_lr = LogisticRegression(**best_params_lr)\n",
    "new_lr.fit(X_train_resampled, y_train_resampled)\n",
    "\n",
    "eval_classification(new_lr, X_train_resampled, X_test_scaled_1, y_train_resampled, y_test_1, 0.5)"
   ]
  },
  {
   "cell_type": "markdown",
   "id": "43e973ae",
   "metadata": {
    "id": "43e973ae"
   },
   "source": [
    "## Decision Tree"
   ]
  },
  {
   "cell_type": "code",
   "execution_count": 44,
   "id": "573cc89e",
   "metadata": {
    "colab": {
     "base_uri": "https://localhost:8080/",
     "height": 75
    },
    "id": "573cc89e",
    "outputId": "0d30623e-f1f8-4a70-8c8c-3d47e76596c8"
   },
   "outputs": [
    {
     "name": "stdout",
     "output_type": "stream",
     "text": [
      "              precision    recall  f1-score   support\n",
      "\n",
      "           0       1.00      0.95      0.97    368526\n",
      "           1       0.07      0.82      0.13      1953\n",
      "\n",
      "    accuracy                           0.94    370479\n",
      "   macro avg       0.54      0.88      0.55    370479\n",
      "weighted avg       0.99      0.94      0.97    370479\n",
      "\n",
      "Accuracy (Test Set): 0.94\n",
      "Precision (Test Set): 0.07\n",
      "Recall (Test Set): 0.82\n",
      "F1-Score (Test Set): 0.13\n",
      "roc_auc (test-proba): 0.9438\n",
      "roc_auc (train-proba): 0.9466\n",
      "Confusion Matrix: \n",
      " [[348411  20115]\n",
      " [   358   1595]]\n",
      "\n"
     ]
    },
    {
     "data": {
      "image/png": "[encoded data removed]",
      "text/plain": [
       "<Figure size 640x480 with 2 Axes>"
      ]
     },
     "metadata": {},
     "output_type": "display_data"
    }
   ],
   "source": [
    "from sklearn.tree import DecisionTreeClassifier\n",
    "\n",
    "dt = DecisionTreeClassifier(max_depth=3, criterion='gini', random_state=0)\n",
    "dt.fit(X_train_resampled, y_train_resampled)\n",
    "\n",
    "eval_classification(dt, X_train_resampled, X_test_scaled_1, y_train_resampled, y_test_1, 0.5)"
   ]
  },
  {
   "cell_type": "markdown",
   "id": "700946e2",
   "metadata": {
    "id": "700946e2"
   },
   "source": [
    "## Naive Bayes"
   ]
  },
  {
   "cell_type": "code",
   "execution_count": 45,
   "id": "fbc0d431",
   "metadata": {
    "colab": {
     "base_uri": "https://localhost:8080/",
     "height": 779
    },
    "id": "fbc0d431",
    "outputId": "9ea8f9f5-a000-4e79-832e-96b1dedcad66"
   },
   "outputs": [
    {
     "name": "stdout",
     "output_type": "stream",
     "text": [
      "              precision    recall  f1-score   support\n",
      "\n",
      "           0       1.00      0.90      0.94    368526\n",
      "           1       0.04      0.81      0.08      1953\n",
      "\n",
      "    accuracy                           0.90    370479\n",
      "   macro avg       0.52      0.85      0.51    370479\n",
      "weighted avg       0.99      0.90      0.94    370479\n",
      "\n",
      "Accuracy (Test Set): 0.90\n",
      "Precision (Test Set): 0.04\n",
      "Recall (Test Set): 0.81\n",
      "F1-Score (Test Set): 0.08\n",
      "roc_auc (test-proba): 0.9171\n",
      "roc_auc (train-proba): 0.9150\n",
      "Confusion Matrix: \n",
      " [[330422  38104]\n",
      " [   368   1585]]\n",
      "\n"
     ]
    },
    {
     "data": {
      "image/png": "[encoded data removed]",
      "text/plain": [
       "<Figure size 640x480 with 2 Axes>"
      ]
     },
     "metadata": {},
     "output_type": "display_data"
    }
   ],
   "source": [
    "from sklearn.naive_bayes import GaussianNB\n",
    "\n",
    "nb = GaussianNB()\n",
    "nb.fit(X_train_resampled, y_train_resampled)\n",
    "\n",
    "eval_classification(nb, X_train_resampled, X_test_scaled_1, y_train_resampled, y_test_1, 0.5)"
   ]
  },
  {
   "cell_type": "markdown",
   "id": "6ca353e9",
   "metadata": {
    "id": "6ca353e9"
   },
   "source": [
    "## Random Forest"
   ]
  },
  {
   "cell_type": "code",
   "execution_count": 51,
   "id": "acb179f6",
   "metadata": {
    "colab": {
     "base_uri": "https://localhost:8080/"
    },
    "id": "acb179f6",
    "outputId": "3062180e-9f71-415f-c109-c6f47fefbec1"
   },
   "outputs": [
    {
     "name": "stdout",
     "output_type": "stream",
     "text": [
      "Fitting 5 folds for each of 108 candidates, totalling 540 fits\n",
      "Best Parameters: {'max_depth': 6, 'max_features': None, 'max_leaf_nodes': 6, 'n_estimators': 150}\n"
     ]
    }
   ],
   "source": [
    "from sklearn.ensemble import RandomForestClassifier\n",
    "from sklearn.model_selection import GridSearchCV\n",
    "\n",
    "X_train_sample, X_test_sample, y_train_sample, y_test_sample = train_test_split(\n",
    "    X_train_resampled,\n",
    "    y_train_resampled,\n",
    "    train_size=100000,\n",
    "    random_state=42\n",
    ")\n",
    "\n",
    "param_grid_rf = {\n",
    "    'n_estimators': [25, 50, 100, 150],\n",
    "    'max_features': ['sqrt', 'log2', None],\n",
    "    'max_depth': [3, 6, 9],\n",
    "    'max_leaf_nodes': [3, 6, 9],\n",
    "}\n",
    "\n",
    "\n",
    "grid_search_rf = GridSearchCV(RandomForestClassifier(),\n",
    "                           param_grid=param_grid_rf,\n",
    "                          cv=5, scoring='recall', verbose=1, n_jobs=-1)\n",
    "\n",
    "grid_search_rf.fit(X_train_sample, y_train_sample)\n",
    "best_params_rf = grid_search_rf.best_params_\n",
    "print(\"Best Parameters:\", best_params_rf)"
   ]
  },
  {
   "cell_type": "code",
   "execution_count": 48,
   "id": "8bdbc402",
   "metadata": {
    "colab": {
     "base_uri": "https://localhost:8080/",
     "height": 779
    },
    "id": "8bdbc402",
    "outputId": "07a7e9ec-34dd-4208-8702-fe73bb1777dc"
   },
   "outputs": [
    {
     "name": "stdout",
     "output_type": "stream",
     "text": [
      "              precision    recall  f1-score   support\n",
      "\n",
      "           0       1.00      0.86      0.93    368526\n",
      "           1       0.04      0.96      0.07      1953\n",
      "\n",
      "    accuracy                           0.86    370479\n",
      "   macro avg       0.52      0.91      0.50    370479\n",
      "weighted avg       0.99      0.86      0.92    370479\n",
      "\n",
      "Accuracy (Test Set): 0.86\n",
      "Precision (Test Set): 0.04\n",
      "Recall (Test Set): 0.96\n",
      "F1-Score (Test Set): 0.07\n",
      "roc_auc (test-proba): 0.9513\n",
      "roc_auc (train-proba): 0.9530\n",
      "Confusion Matrix: \n",
      " [[317715  50811]\n",
      " [    86   1867]]\n",
      "\n"
     ]
    },
    {
     "data": {
      "image/png": "[encoded data removed]",
      "text/plain": [
       "<Figure size 640x480 with 2 Axes>"
      ]
     },
     "metadata": {},
     "output_type": "display_data"
    }
   ],
   "source": [
    "from sklearn.ensemble import RandomForestClassifier\n",
    "best_params_rf = {'max_depth': 6, 'max_features': None, 'max_leaf_nodes': 6, 'n_estimators': 150}\n",
    "\n",
    "rf = RandomForestClassifier(**best_params_rf)\n",
    "rf.fit(X_train_resampled, y_train_resampled)\n",
    "\n",
    "eval_classification(rf, X_train_resampled, X_test_scaled_1, y_train_resampled, y_test_1, 0.5)"
   ]
  },
  {
   "cell_type": "markdown",
   "id": "97bbf203",
   "metadata": {
    "id": "97bbf203"
   },
   "source": [
    "## Model Comparison"
   ]
  },
  {
   "cell_type": "code",
   "execution_count": 49,
   "id": "053b5944",
   "metadata": {
    "id": "053b5944"
   },
   "outputs": [],
   "source": [
    "def recall_value(model, x_tra, x_tes, y_tra, y_tes, threshold):\n",
    "    y_pred_train = model.predict(x_tra)\n",
    "    y_pred_proba_train = model.predict_proba(x_tra)\n",
    "\n",
    "    y_pred_proba = model.predict_proba(x_tes)\n",
    "\n",
    "    threshold = threshold\n",
    "    y_pred = (y_pred_proba[:, 1] >= threshold).astype('int')\n",
    "\n",
    "    recall = recall_score(y_tes, y_pred)\n",
    "\n",
    "    return recall"
   ]
  },
  {
   "cell_type": "code",
   "execution_count": 51,
   "id": "ca83b569",
   "metadata": {
    "colab": {
     "base_uri": "https://localhost:8080/",
     "height": 564
    },
    "id": "ca83b569",
    "outputId": "1b435863-8f0e-4805-f3e4-6ee9619d10cf"
   },
   "outputs": [
    {
     "data": {
      "image/png": "[encoded data removed]",
      "text/plain": [
       "<Figure size 800x1000 with 1 Axes>"
      ]
     },
     "metadata": {},
     "output_type": "display_data"
    }
   ],
   "source": [
    "logistic_recall = recall_value(new_lr, X_train_resampled, X_test_scaled_1, y_train_resampled, y_test_1, 0.5)\n",
    "decisiontree_recall = recall_value(dt, X_train_resampled, X_test_scaled_1, y_train_resampled, y_test_1, 0.5)\n",
    "naivebayes_recall = recall_value(nb, X_train_resampled, X_test_scaled_1, y_train_resampled, y_test_1, 0.5)\n",
    "randomforest_recall = recall_value(rf, X_train_resampled, X_test_scaled_1, y_train_resampled, y_test_1, 0.5)\n",
    "\n",
    "compare = {'Model': ['Logistic Regression', 'Decision Tree', 'Naive Bayes', 'Random Forest'],\n",
    "        'Recall': [logistic_recall, decisiontree_recall, naivebayes_recall, randomforest_recall]}\n",
    "compare_df = pd.DataFrame(compare)\n",
    "\n",
    "plt.figure(figsize=(8, 10))\n",
    "bars = plt.bar(compare_df['Model'], compare_df['Recall'], color=['blue', 'green'])\n",
    "plt.xlabel('Model')\n",
    "plt.ylabel('Recall')\n",
    "plt.title('Comparison of Recall between Logistic Regression and Decision Tree')\n",
    "plt.ylim(0, 1)  1\n",
    "\n",
    "\n",
    "for bar in bars:\n",
    "    plt.text(bar.get_x() + bar.get_width() / 2, bar.get_height() + 0.02,\n",
    "             round(bar.get_height(), 2), ha='center', va='bottom')\n",
    "\n",
    "plt.show()"
   ]
  }
 ],
 "metadata": {
  "colab": {
   "provenance": []
  },
  "kernelspec": {
   "display_name": "Python 3 (ipykernel)",
   "language": "python",
   "name": "python3"
  },
  "language_info": {
   "codemirror_mode": {
    "name": "ipython",
    "version": 3
   },
   "file_extension": ".py",
   "mimetype": "text/x-python",
   "name": "python",
   "nbconvert_exporter": "python",
   "pygments_lexer": "ipython3",
   "version": "3.9.13"
  }
 },
 "nbformat": 4,
 "nbformat_minor": 5
}
